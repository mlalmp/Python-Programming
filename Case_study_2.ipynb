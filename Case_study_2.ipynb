{
  "nbformat": 4,
  "nbformat_minor": 0,
  "metadata": {
    "colab": {
      "provenance": []
    },
    "kernelspec": {
      "name": "python3",
      "display_name": "Python 3"
    },
    "language_info": {
      "name": "python"
    }
  },
  "cells": [
    {
      "cell_type": "markdown",
      "source": [
        "1. Write a Python function to sum all the numbers in a list. (Create a list and \n",
        "get list elements from user)"
      ],
      "metadata": {
        "id": "ZC3t6EoN_QQX"
      }
    },
    {
      "cell_type": "code",
      "source": [
        "def sum_list(list):\n",
        "  sum=0\n",
        "  for i in list:\n",
        "    sum+= i\n",
        "  return sum\n",
        "\n",
        "\n",
        "\n",
        "list_elemets= input('Enter elements of a list separated by space ')\n",
        "print(\"\\n\")\n",
        "list_1 = list_elemets.split()\n",
        "print('list: ', list_1)\n",
        "for i in range(len(list_1)):\n",
        "    list_1[i] = int(list_1[i])\n",
        "\n",
        "sum_list(list_1)"
      ],
      "metadata": {
        "colab": {
          "base_uri": "https://localhost:8080/"
        },
        "id": "x-JckiEb_RiO",
        "outputId": "612b51c5-7a8b-40be-9430-9caac25ef76a"
      },
      "execution_count": 29,
      "outputs": [
        {
          "output_type": "stream",
          "name": "stdout",
          "text": [
            "Enter elements of a list separated by space 4 7 3 9\n",
            "\n",
            "\n",
            "list:  ['4', '7', '3', '9']\n"
          ]
        },
        {
          "output_type": "execute_result",
          "data": {
            "text/plain": [
              "23"
            ]
          },
          "metadata": {},
          "execution_count": 29
        }
      ]
    },
    {
      "cell_type": "markdown",
      "source": [
        "2. Write a Python function that checks whether a passed string is \n",
        "palindrome or not."
      ],
      "metadata": {
        "id": "DqaZo2lk6uRn"
      }
    },
    {
      "cell_type": "code",
      "execution_count": 3,
      "metadata": {
        "colab": {
          "base_uri": "https://localhost:8080/"
        },
        "id": "ZxFKVOx46SEp",
        "outputId": "6394680c-30f6-41da-de21-149be48f36cc"
      },
      "outputs": [
        {
          "output_type": "stream",
          "name": "stdout",
          "text": [
            "malayALam\n",
            "Yes\n"
          ]
        }
      ],
      "source": [
        "def isPalindrome(string):\n",
        "    return string == string[::-1]\n",
        " \n",
        " \n",
        "\n",
        "string_1 = input()\n",
        "ans = isPalindrome(string_1.lower())\n",
        " \n",
        "if ans:\n",
        "    print(\"Yes\")\n",
        "else:\n",
        "    print(\"No\")"
      ]
    },
    {
      "cell_type": "markdown",
      "source": [
        "3. Write a Python recursive function to find the Fibonacci series. Get the limit \n",
        "from the user"
      ],
      "metadata": {
        "id": "JK6j8KiE61E-"
      }
    },
    {
      "cell_type": "code",
      "source": [
        "def fibonacci_series(n):\n",
        "  if n in {0, 1}:\n",
        "    return n\n",
        "  return fibonacci_series(n - 1) + fibonacci_series(n - 2)\n",
        "\n",
        "number = int(input(\"enter the number of terms for Fibonacci series :\"))\n",
        "[fibonacci_series(n) for n in range(number)]"
      ],
      "metadata": {
        "colab": {
          "base_uri": "https://localhost:8080/"
        },
        "id": "V8iXoBmw6xYG",
        "outputId": "8855b85b-3504-4dc5-dd87-b3d858d1e6e3"
      },
      "execution_count": 4,
      "outputs": [
        {
          "name": "stdout",
          "output_type": "stream",
          "text": [
            "enter the number of terms for Fibonacci series :4\n"
          ]
        },
        {
          "output_type": "execute_result",
          "data": {
            "text/plain": [
              "[0, 1, 1, 2]"
            ]
          },
          "metadata": {},
          "execution_count": 4
        }
      ]
    },
    {
      "cell_type": "markdown",
      "source": [
        "4. Write a Python recursive function to print the multiplication table of \n",
        "given number"
      ],
      "metadata": {
        "id": "CdEQ4Jf17A7W"
      }
    },
    {
      "cell_type": "code",
      "source": [
        "def multiplication_table(num,count):\n",
        "  if( count < 20):\n",
        "     print(num,\" * \",count,\" = \",num * count)\n",
        "     return multiplication_table(num,count + 1)\n",
        "  else:\n",
        "    return print(num,\" * \",count,\" = \",num*count)\n",
        "number_1 = int(input(\"Enter any Number  :\"));\n",
        "print(multiplication_table(number_1,1))"
      ],
      "metadata": {
        "colab": {
          "base_uri": "https://localhost:8080/"
        },
        "id": "PqPX1iXg7B9-",
        "outputId": "fa0d985d-0506-4bc7-b9a6-5fe5733452b4"
      },
      "execution_count": 26,
      "outputs": [
        {
          "output_type": "stream",
          "name": "stdout",
          "text": [
            "Enter any Number  :3\n",
            "3  *  1  =  3\n",
            "3  *  2  =  6\n",
            "3  *  3  =  9\n",
            "3  *  4  =  12\n",
            "3  *  5  =  15\n",
            "3  *  6  =  18\n",
            "3  *  7  =  21\n",
            "3  *  8  =  24\n",
            "3  *  9  =  27\n",
            "3  *  10  =  30\n",
            "3  *  11  =  33\n",
            "3  *  12  =  36\n",
            "3  *  13  =  39\n",
            "3  *  14  =  42\n",
            "3  *  15  =  45\n",
            "3  *  16  =  48\n",
            "3  *  17  =  51\n",
            "3  *  18  =  54\n",
            "3  *  19  =  57\n",
            "3  *  20  =  60\n",
            "None\n"
          ]
        }
      ]
    },
    {
      "cell_type": "markdown",
      "source": [
        "5. Define a function which counts vowels and consonant in a word."
      ],
      "metadata": {
        "id": "5lFICmu991-n"
      }
    },
    {
      "cell_type": "code",
      "source": [
        "def counts(word):\n",
        "  vowels=0\n",
        "  consonants=0\n",
        "  for i in word:\n",
        "    if(i == 'a'or i == 'e'or i == 'i'or i == 'o'or i == 'u' ):\n",
        "           vowels=vowels+1\n",
        "    else:\n",
        "        consonants=consonants+1\n",
        "      \n",
        "  return (vowels,consonants)\n",
        "word_1 = input(' enter the word = ')\n",
        "Word = word_1.lower()\n",
        "counts(Word)"
      ],
      "metadata": {
        "colab": {
          "base_uri": "https://localhost:8080/"
        },
        "id": "M3Jd83eO93AW",
        "outputId": "cf21fd2f-9189-419e-8499-c5f35f303ba7"
      },
      "execution_count": 27,
      "outputs": [
        {
          "name": "stdout",
          "output_type": "stream",
          "text": [
            " enter the word = HindI\n"
          ]
        },
        {
          "output_type": "execute_result",
          "data": {
            "text/plain": [
              "(2, 3)"
            ]
          },
          "metadata": {},
          "execution_count": 27
        }
      ]
    },
    {
      "cell_type": "markdown",
      "source": [
        "6. Define a function that accepts lowercase words and returns uppercase \n",
        "words.\n"
      ],
      "metadata": {
        "id": "RXumbzpt-fjA"
      }
    },
    {
      "cell_type": "code",
      "source": [
        "def upper_case(lower):\n",
        "  return(lower.upper())\n",
        "\n",
        "lowercase_word = input('enter a lowercase word: ')\n",
        "upper_case(lowercase_word)"
      ],
      "metadata": {
        "colab": {
          "base_uri": "https://localhost:8080/",
          "height": 53
        },
        "id": "FLgFOEfr-hsX",
        "outputId": "90bd2cd0-0984-43af-df6f-245fbd83b034"
      },
      "execution_count": 28,
      "outputs": [
        {
          "name": "stdout",
          "output_type": "stream",
          "text": [
            "enter a lowercase word: python language\n"
          ]
        },
        {
          "output_type": "execute_result",
          "data": {
            "text/plain": [
              "'PYTHON LANGUAGE'"
            ],
            "application/vnd.google.colaboratory.intrinsic+json": {
              "type": "string"
            }
          },
          "metadata": {},
          "execution_count": 28
        }
      ]
    },
    {
      "cell_type": "markdown",
      "source": [
        "7. Write a Python program to remove ‘None’ values from a given list using \n",
        "the lambda function.\n",
        "\n",
        "Given input = [12, 0, None, 23, None, -55, 234, 89, None, 0, 6, -12]\n",
        "Expected output = [12, 0, 23, -55, 234, 89, 0, 6, -12]\n"
      ],
      "metadata": {
        "id": "vnkb3Be4_O2P"
      }
    },
    {
      "cell_type": "code",
      "source": [
        "def remove(none):\n",
        "    output = filter(lambda v: v is not None, none)\n",
        "    return list(output)\n",
        "\n",
        "input_list = [12, 0, None, 23, None, -55, 234, 89, None, 0, 6, -12]\n",
        "print(\"Given input : \" ,input_list)\n",
        "print(\"\\nExpected output list : \",remove(input_list))"
      ],
      "metadata": {
        "colab": {
          "base_uri": "https://localhost:8080/"
        },
        "id": "Yt9wlOq-B6Ag",
        "outputId": "ec8ad118-756b-429c-90f6-d2034a1f4f34"
      },
      "execution_count": 35,
      "outputs": [
        {
          "output_type": "stream",
          "name": "stdout",
          "text": [
            "Given input :  [12, 0, None, 23, None, -55, 234, 89, None, 0, 6, -12]\n",
            "\n",
            "Expected output list :  [12, 0, 23, -55, 234, 89, 0, 6, -12]\n"
          ]
        }
      ]
    },
    {
      "cell_type": "markdown",
      "source": [
        "8. Write a Rectangle class in Python language, allowing you to build a \n",
        "rectangle with length and width attributes.\n",
        "\n",
        "a. Create a Perimeter() method to calculate the perimeter of the \n",
        "rectangle and a Area() method to calculate the area of the rectangle.\n",
        "\n",
        "b. Create a method display() that display the length, width, perimeter \n",
        "and area of an object created using an instantiation on rectangle \n",
        "class.\n",
        "\n",
        "c. Create a Parallelepiped child class inheriting from the Rectangle \n",
        "class and with a height attribute and another Volume() method to \n",
        "calculate the volume of the Parallelepiped."
      ],
      "metadata": {
        "id": "FodfLzFyB5Bg"
      }
    },
    {
      "cell_type": "code",
      "source": [
        "class Rectangle: \n",
        "    def __init__(self, length , width):\n",
        "        self.length = length\n",
        "        self.width = width\n",
        "\n",
        "#a.Primeter() method\n",
        "    def Perimeter(self):\n",
        "        return 2*(self.length + self.width)\n",
        "\n",
        "\n",
        "    def Area(self):\n",
        "        return self.length*self.width\n",
        "\n",
        "#b.Display() method\n",
        "\n",
        "    def display(self):\n",
        "        print(\"Length of Rectangle: \", self.length)\n",
        "        print(\"Width of Rectangle: \", self.width)\n",
        "        print(\"Perimeter of Rectangle: \", self.Perimeter())\n",
        "        print(\"Area of Rectangle: \", self.Area())\n",
        "\n",
        "#c.Parallelepiped child class inheriting from the Rectangle\n",
        "\n",
        "class Parallelepipede(Rectangle):\n",
        "    def __init__(self, length, width , height):\n",
        "        Rectangle.__init__(self, length, width)\n",
        "        self.height = height\n",
        "  \n",
        "\n",
        "    def volume(self):\n",
        "        return print('Volume of Parallelepiped:' ,self.length*self.width*self.height)\n",
        "        \n",
        "Rectangle(6,4)\n",
        "parallelepipede = Parallelepipede(6,4,3)\n",
        "Rectangle(6,4).display()\n",
        "parallelepipede.volume()"
      ],
      "metadata": {
        "colab": {
          "base_uri": "https://localhost:8080/"
        },
        "id": "DzA4VmaJDjm3",
        "outputId": "41595c43-1d47-4365-ee29-076be427c9dd"
      },
      "execution_count": 66,
      "outputs": [
        {
          "output_type": "stream",
          "name": "stdout",
          "text": [
            "Length of Rectangle:  6\n",
            "Width of Rectangle:  4\n",
            "Perimeter of Rectangle:  20\n",
            "Area of Rectangle:  24\n",
            "Volume of Parallelepiped: 72\n"
          ]
        }
      ]
    },
    {
      "cell_type": "markdown",
      "source": [
        "9. Create a Python class called BankAccount which represents a bank \n",
        "account, having as attributes: accountNumber (numeric type), name \n",
        "(name of the account owner as string type), balance.\n",
        "\n",
        "a. Create a constructor with parameters: accountNumber, name, \n",
        "balance.\n",
        "\n",
        "b. Create a Deposit() method which manages the deposit actions.\n",
        "\n",
        "c. Create a Withdrawal() method which manages withdrawals \n",
        "actions.\n",
        "\n",
        "d. Create an bankFees() method to apply the bank fees with a \n",
        "percentage of 5% of the balance account.\n",
        "\n",
        "e. Create a display() method to display account details.\n",
        "\n",
        "f. Give the complete code for the BankAccount class."
      ],
      "metadata": {
        "id": "-ET8PCDOU6ac"
      }
    },
    {
      "cell_type": "code",
      "source": [
        "class BankAccount:\n",
        "    def __init__(self,accountNumber, name, balance):\n",
        "        self.accountNumber = accountNumber\n",
        "        self.name = name\n",
        "        self.balance = balance\n",
        "        \n",
        "# create Deposit() method\n",
        "    def Deposit(self , D ):\n",
        "        self.balance = self.balance + D\n",
        "    \n",
        "# create Withdrawal method\n",
        "    def Withdrawal(self , W):\n",
        "        if(self.balance < W):\n",
        "            print(\"Insufficient balance for withdrwal\")\n",
        "        else:\n",
        "            self.balance = self.balance - W\n",
        "# create bankFees() method\n",
        "    def bankFees(self):\n",
        "        self.balance = (95/100)*self.balance\n",
        "        \n",
        "# create display() method\n",
        "    def display(self):\n",
        "        print(\"Account Number : \" , self.accountNumber)\n",
        "        print(\"Account Name : \" , self.name)\n",
        "        print(\"Account Balance : \" , self.balance , \" rupees\")\n",
        "        \n",
        "\n",
        "myAccount = BankAccount(101101, \"manu\" , 100)\n",
        "\n",
        "myAccount.Deposit(100)\n",
        "myAccount.Withdrawal(50)\n",
        "myAccount.bankFees()\n",
        "myAccount.display()\n"
      ],
      "metadata": {
        "colab": {
          "base_uri": "https://localhost:8080/"
        },
        "id": "V8zqEjMZVMd9",
        "outputId": "6890b5c1-4afc-4e61-f20c-12fe79cd6a99"
      },
      "execution_count": 77,
      "outputs": [
        {
          "output_type": "stream",
          "name": "stdout",
          "text": [
            "Account Number :  101101\n",
            "Account Name :  manu\n",
            "Account Balance :  142.5  rupees\n"
          ]
        }
      ]
    },
    {
      "cell_type": "code",
      "source": [],
      "metadata": {
        "id": "gDg8V-L_U_VF"
      },
      "execution_count": null,
      "outputs": []
    },
    {
      "cell_type": "markdown",
      "source": [
        "10. Create a base class rectangle with attributes length and breadth, methods \n",
        "area and perimeter. \n",
        "\n",
        "a. Save the rectangle class as a python file rectangle.py file. \n",
        "\n",
        "b. Open another python script and import the rectangle.py file. \n",
        "\n",
        "c. In the newly created script derive a child class called Parallelepiped \n",
        "class inheriting from the Rectangle class and with a height attribute \n",
        "and another Volume() method to calculate the volume of the \n",
        "Parallelepiped. \n",
        "\n",
        "d. Now create objects for parent class and child class in newly created \n",
        "script and access methods of parent class and child class. \n",
        "(Upload the rectangle.py file and python script of question 10 as \n",
        "separate files in github and share the link Paatshala)"
      ],
      "metadata": {
        "id": "VacTNgb_YAeF"
      }
    },
    {
      "cell_type": "code",
      "source": [
        "class Rectangle: \n",
        "    def __init__(self, length , width):\n",
        "        self.length = length\n",
        "        self.width = width\n",
        "\n",
        "#a.Primeter() method\n",
        "    def Perimeter(self):\n",
        "        return 2*(self.length + self.width)\n",
        "\n",
        "\n",
        "    def Area(self):\n",
        "        return self.length*self.width\n",
        "\n",
        "#b.Display() method\n",
        "\n",
        "    def display(self):\n",
        "        print(\"Length of Rectangle: \", self.length)\n",
        "        print(\"Width of Rectangle: \", self.width)\n",
        "        print(\"Perimeter of Rectangle: \", self.Perimeter())\n",
        "        print(\"Area of Rectangle: \", self.Area())\n",
        "\n",
        "Rectangle(5,4).display()\n"
      ],
      "metadata": {
        "colab": {
          "base_uri": "https://localhost:8080/"
        },
        "id": "t1GTZz6GYDAt",
        "outputId": "ea037cf9-74e7-4de1-df0f-a2b61e726481"
      },
      "execution_count": 84,
      "outputs": [
        {
          "output_type": "stream",
          "name": "stdout",
          "text": [
            "Length of Rectangle:  5\n",
            "Width of Rectangle:  4\n",
            "Perimeter of Rectangle:  18\n",
            "Area of Rectangle:  20\n"
          ]
        }
      ]
    }
  ]
}