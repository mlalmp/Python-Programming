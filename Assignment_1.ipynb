{
  "nbformat": 4,
  "nbformat_minor": 0,
  "metadata": {
    "colab": {
      "provenance": []
    },
    "kernelspec": {
      "name": "python3",
      "display_name": "Python 3"
    },
    "language_info": {
      "name": "python"
    }
  },
  "cells": [
    {
      "cell_type": "markdown",
      "source": [
        "1. Write a Python Program to accept the details of a student like name, roll number\n",
        "and mark and display it.\n",
        "\n",
        "Sample input: Enter the name: Anisha\n",
        "Enter the roll number: 21\n",
        "Enter the mark: 78\n",
        "\n",
        "Sample output:\n",
        "Name: Anisha\n",
        "Roll No: 21\n",
        "Mark: 78\n"
      ],
      "metadata": {
        "id": "IqFtd7nmXLvK"
      }
    },
    {
      "cell_type": "code",
      "execution_count": null,
      "metadata": {
        "colab": {
          "base_uri": "https://localhost:8080/"
        },
        "id": "YvGwBKK8Ug9m",
        "outputId": "5b90745b-c6be-404e-907d-3fd8c63cd8b3"
      },
      "outputs": [
        {
          "output_type": "stream",
          "name": "stdout",
          "text": [
            "Enter the name: Anisha\n",
            "Enter the roll number: 21\n",
            "Enter the mark: 78\n",
            "Name= Anisha \n",
            "Roll number 21 \n",
            "Mark 78\n"
          ]
        }
      ],
      "source": [
        "name = input('Enter the name: ')\n",
        "roll_number = input('Enter the roll number: ')\n",
        "mark = input('Enter the mark: ')\n",
        "print(\"Name=\",name,\"\\nRoll number\",roll_number,\"\\nMark\",mark)"
      ]
    },
    {
      "cell_type": "markdown",
      "source": [
        "2. Write a Python program to convert temperatures to and from Celsius\n",
        "Fahrenheit. [Formula: c/5=f-32/9 where c=temperature in Celsius and f=\n",
        "temperature in Fahrenheit.] \n",
        "\n",
        "Sample input: Temperature in Fahrenheit =41\n",
        "\n",
        "Sample output: Temperature in Celsius =5"
      ],
      "metadata": {
        "id": "ADSYEfy9YrR6"
      }
    },
    {
      "cell_type": "code",
      "source": [
        "f =int(input('Enter temperature in Fahrenheit: '))\n",
        "c = int((f-32)*5/9)\n",
        "print('Temperature in Celsius: ',c)"
      ],
      "metadata": {
        "colab": {
          "base_uri": "https://localhost:8080/"
        },
        "id": "Z5Cu707CYrAi",
        "outputId": "3af952ff-8b5f-4b5d-8e31-4257dc857c2a"
      },
      "execution_count": null,
      "outputs": [
        {
          "output_type": "stream",
          "name": "stdout",
          "text": [
            "Enter temperature in Fahrenheit: 41\n",
            "Temperature in Celsius:  5\n"
          ]
        }
      ]
    },
    {
      "cell_type": "code",
      "source": [
        "c = int(input('Enter Temperature in Celsius: '))\n",
        "f = int(32+(c*9/5))\n",
        "print('temperature in Fahrenheit: ',f)"
      ],
      "metadata": {
        "colab": {
          "base_uri": "https://localhost:8080/"
        },
        "id": "Z0sRIlYhalvy",
        "outputId": "bf88e936-e841-4dac-cb01-994d21344484"
      },
      "execution_count": null,
      "outputs": [
        {
          "output_type": "stream",
          "name": "stdout",
          "text": [
            "Enter Temperature in Celsius: 5\n",
            "temperature in Fahrenheit:  41\n"
          ]
        }
      ]
    },
    {
      "cell_type": "markdown",
      "source": [
        "3. Write a Python program to accept two numbers from the user and display\n",
        "its product."
      ],
      "metadata": {
        "id": "UMlJzPmNbqU5"
      }
    },
    {
      "cell_type": "code",
      "source": [
        "number_1 = int(input('Enter First number: '))\n",
        "number_2 = int(input('Enter Second number: '))\n",
        "Product = number_1*number_2\n",
        "print('Product of First and Second number:',Product)"
      ],
      "metadata": {
        "id": "wYFfPRpCbtx6",
        "colab": {
          "base_uri": "https://localhost:8080/"
        },
        "outputId": "a9ce3e43-4c82-4a5d-b347-258d4de476dd"
      },
      "execution_count": null,
      "outputs": [
        {
          "output_type": "stream",
          "name": "stdout",
          "text": [
            "Enter First number: 4\n",
            "Enter Second number: 5\n",
            "Product of First and Second number: 20\n"
          ]
        }
      ]
    },
    {
      "cell_type": "markdown",
      "source": [
        "4. Write a Python program to accept a string “Learn Python by Developing a\n",
        "Website” and display the string like “Learn**Python** by Developing a **Website**”"
      ],
      "metadata": {
        "id": "-V7rdLvEhbRz"
      }
    },
    {
      "cell_type": "code",
      "source": [
        "string_1 = str(input('Enter the statement: '))\n",
        "x = string_1.replace(\"Python\", \"**Python**\")\n",
        "y = x.replace(\"Website\", \"**Website**\")\n",
        "print(y)"
      ],
      "metadata": {
        "colab": {
          "base_uri": "https://localhost:8080/"
        },
        "id": "cUj6Md_ihdhr",
        "outputId": "cc998346-71d9-446f-e8f0-dae684423943"
      },
      "execution_count": 33,
      "outputs": [
        {
          "output_type": "stream",
          "name": "stdout",
          "text": [
            "Enter the statement: “Learn Python by Developing a Website”\n",
            "“Learn **Python** by Developing a **Website**”\n"
          ]
        }
      ]
    },
    {
      "cell_type": "markdown",
      "source": [
        "5. Write a Python program to accept the radius of a circle and display its area."
      ],
      "metadata": {
        "id": "LDSbqvK5iHEK"
      }
    },
    {
      "cell_type": "code",
      "source": [
        "import math\n",
        "r= int(input('enter the radius of circle: '))\n",
        "area = (math.pi*r*r)\n",
        "print('Area of the Circle:',area)\n",
        "txt =\"Area of the Circle: {area:.2f}\"\n",
        "print(txt.format(area= area))"
      ],
      "metadata": {
        "colab": {
          "base_uri": "https://localhost:8080/"
        },
        "id": "Z-Vp_dw9iIga",
        "outputId": "ab0079e5-fa1c-428e-ecd3-d1bcd6e7fef3"
      },
      "execution_count": 34,
      "outputs": [
        {
          "output_type": "stream",
          "name": "stdout",
          "text": [
            "enter the radius of circle: 1\n",
            "Area of the Circle: 3.141592653589793\n",
            "Area of the Circle: 3.14\n"
          ]
        }
      ]
    },
    {
      "cell_type": "markdown",
      "source": [
        "6. Python program to insert a number to any position in a list (Get the number to\n",
        "be inserted and position from the user)"
      ],
      "metadata": {
        "id": "DH4w80IqlgPD"
      }
    },
    {
      "cell_type": "code",
      "source": [
        "list_1 = [11,31,13,14,51]\n",
        "list_1.insert(2,6)\n",
        "list_1"
      ],
      "metadata": {
        "colab": {
          "base_uri": "https://localhost:8080/"
        },
        "id": "1lGO4-A2lf8z",
        "outputId": "a0fa8409-0e76-4dd2-a7c7-034c3bd65379"
      },
      "execution_count": 36,
      "outputs": [
        {
          "output_type": "execute_result",
          "data": {
            "text/plain": [
              "[11, 31, 6, 13, 14, 51]"
            ]
          },
          "metadata": {},
          "execution_count": 36
        }
      ]
    },
    {
      "cell_type": "markdown",
      "source": [
        "7. Write a program to rename a key city to a location in the following dictionary.\n",
        "\n",
        "sample_dict = { \"name\": \"John\", \"age\":5, \"salary\": 8000, \"city\": \"New York\"}"
      ],
      "metadata": {
        "id": "xDQuf9YFmrcz"
      }
    },
    {
      "cell_type": "code",
      "source": [
        "dict_1 = {'name':'John','age':'20','salary':8000,'city':'New York'}\n",
        "dict_1['city']= 'Cochin'\n",
        "dict_1"
      ],
      "metadata": {
        "colab": {
          "base_uri": "https://localhost:8080/"
        },
        "id": "KxAKzgnqiGqr",
        "outputId": "6a587e21-651a-483a-8f0c-82e07f370438"
      },
      "execution_count": 37,
      "outputs": [
        {
          "output_type": "execute_result",
          "data": {
            "text/plain": [
              "{'name': 'John', 'age': '20', 'salary': 8000, 'city': 'Cochin'}"
            ]
          },
          "metadata": {},
          "execution_count": 37
        }
      ]
    },
    {
      "cell_type": "markdown",
      "source": [
        "8. Write a Python program to change Brad’s salary to 8500 in the following\n",
        "dictionary\n",
        "\n",
        "sample_dict = {\n",
        "'emp1': {'name': 'John', 'salary': 7500},\n",
        "'emp2': {'name': 'Emma', 'salary': 8000},\n",
        "'emp3': {'name': 'Brad', 'salary': 500}\n",
        "}"
      ],
      "metadata": {
        "id": "T31Mh7ean8sT"
      }
    },
    {
      "cell_type": "code",
      "source": [
        "dict_2 = { 'emp1': {'name': 'John', 'salary': 7500}, 'emp2': {'name': 'Emma', 'salary': 8000}, 'emp3': {'name': 'Brad', 'salary': 500} }\n",
        "dict_2['emp3']['salary']=8500\n",
        "dict_2"
      ],
      "metadata": {
        "colab": {
          "base_uri": "https://localhost:8080/"
        },
        "id": "EPB1eJVFn_Aj",
        "outputId": "f3859783-2523-43a4-bd1c-5a6598d45f06"
      },
      "execution_count": 38,
      "outputs": [
        {
          "output_type": "execute_result",
          "data": {
            "text/plain": [
              "{'emp1': {'name': 'John', 'salary': 7500},\n",
              " 'emp2': {'name': 'Emma', 'salary': 8000},\n",
              " 'emp3': {'name': 'Brad', 'salary': 8500}}"
            ]
          },
          "metadata": {},
          "execution_count": 38
        }
      ]
    },
    {
      "cell_type": "markdown",
      "source": [
        "9. Write a program to copy elements 43 and 54 from the following tuple into a\n",
        "new tuple. \n",
        "Given: tuple1 = (10, 20, 43, 54, 56, 68)"
      ],
      "metadata": {
        "id": "XWBTQTk9ozDD"
      }
    },
    {
      "cell_type": "code",
      "source": [
        "tuple_1 = (10, 20, 43, 54, 56, 68)\n",
        "tuple_2 =(tuple_1[2],tuple_1[3])\n",
        "tuple_2"
      ],
      "metadata": {
        "colab": {
          "base_uri": "https://localhost:8080/"
        },
        "id": "81AASdMXo5gV",
        "outputId": "b5c5deed-5792-4e51-bf51-123f96dab287"
      },
      "execution_count": 39,
      "outputs": [
        {
          "output_type": "execute_result",
          "data": {
            "text/plain": [
              "(43, 54)"
            ]
          },
          "metadata": {},
          "execution_count": 39
        }
      ]
    },
    {
      "cell_type": "markdown",
      "source": [
        "10. Counts the number of occurrences of item 50 from a tuple\n",
        "tuple1 = (50, 10, 60, 70, 50,83,567,50,81)"
      ],
      "metadata": {
        "id": "lToM_AYFqBHL"
      }
    },
    {
      "cell_type": "code",
      "source": [
        "tuple_3 = (50, 10, 60, 70, 50,83,567,50,81)\n",
        "tuple_3.count(50)"
      ],
      "metadata": {
        "colab": {
          "base_uri": "https://localhost:8080/"
        },
        "id": "yB3XgcoxqDJE",
        "outputId": "71abc28f-b5a2-4bf4-d56a-ea83a5a9d609"
      },
      "execution_count": 40,
      "outputs": [
        {
          "output_type": "execute_result",
          "data": {
            "text/plain": [
              "3"
            ]
          },
          "metadata": {},
          "execution_count": 40
        }
      ]
    }
  ]
}