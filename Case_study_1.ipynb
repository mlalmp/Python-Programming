{
  "nbformat": 4,
  "nbformat_minor": 0,
  "metadata": {
    "colab": {
      "provenance": []
    },
    "kernelspec": {
      "name": "python3",
      "display_name": "Python 3"
    },
    "language_info": {
      "name": "python"
    }
  },
  "cells": [
    {
      "cell_type": "markdown",
      "source": [
        "1. A school has following rules for grading system:\n",
        "a. Below 25 - F\n",
        "b. 25 to 45 - E\n",
        "c. 45 to 50 - D\n",
        "d. 50 to 60 - C\n",
        "e. 60 to 80 - B\n",
        "f. Above 80 - A\n",
        "Ask user to enter marks and print the corresponding grade."
      ],
      "metadata": {
        "id": "ues-BO9A_DUA"
      }
    },
    {
      "cell_type": "code",
      "execution_count": null,
      "metadata": {
        "colab": {
          "base_uri": "https://localhost:8080/"
        },
        "id": "uGXxlN993zVm",
        "outputId": "a5ff32a4-239f-4128-f57e-d02a03d53027"
      },
      "outputs": [
        {
          "output_type": "stream",
          "name": "stdout",
          "text": [
            "Mark = 99\n",
            "Garde A\n"
          ]
        }
      ],
      "source": [
        "mark = int(input('Mark = '))\n",
        "if mark <25:\n",
        "  print('Garde F')\n",
        "elif  25<= mark <45:\n",
        "  print('Garde E')\n",
        "elif  45<=mark <50:\n",
        "  print('Garde D')\n",
        "elif  50<=mark <60:\n",
        "  print('Garde C')\n",
        "elif  60<=mark <80:\n",
        "  print('Garde B')\n",
        "else:\n",
        "  print('Garde A')"
      ]
    },
    {
      "cell_type": "markdown",
      "source": [
        "2. You have a list of names. Create a new list which contains only the names \n",
        "with non-repeating characters. \n",
        "Sample input = [‘John’,’Peter’,’Meera’,’Mini’,’Krishna’]\n",
        "Sample output = [‘John’,Krishna]\n"
      ],
      "metadata": {
        "id": "7LGo-flr_Ihf"
      }
    },
    {
      "cell_type": "code",
      "source": [
        "names = ['John','Peter','Meera','Mini','Krishna']\n",
        "noRepNames = names.copy()\n",
        "\n",
        "for name in names:\n",
        "    \n",
        "    for idx, char in enumerate(name):\n",
        "\n",
        "        if char.lower() in  name[idx+1:].lower():\n",
        "            noRepNames.remove(name)\n",
        "            break\n",
        "\n",
        "print(noRepNames)"
      ],
      "metadata": {
        "colab": {
          "base_uri": "https://localhost:8080/"
        },
        "id": "WnwnUBFFQzdr",
        "outputId": "6b38c0c8-1724-4814-fa0c-2cb8bbe5beee"
      },
      "execution_count": null,
      "outputs": [
        {
          "output_type": "stream",
          "name": "stdout",
          "text": [
            "['John', 'Krishna']\n"
          ]
        }
      ]
    },
    {
      "cell_type": "markdown",
      "source": [
        "3. Take values of length and breadth of a rectangle from user and check if it \n",
        "is square or not."
      ],
      "metadata": {
        "id": "Z7th6Bbs_McG"
      }
    },
    {
      "cell_type": "code",
      "source": [
        "l = int(input('Length of Rectangle = '))\n",
        "b = int(input('Breadth of Rectangle = '))\n",
        "if l == b:\n",
        "  print('it is a Rectangle')\n",
        "else:\n",
        "  print('it is not a Rectangle')"
      ],
      "metadata": {
        "colab": {
          "base_uri": "https://localhost:8080/"
        },
        "id": "SAawgRob_SyI",
        "outputId": "1357ff9d-c6da-4a0d-ffeb-c9798e07caba"
      },
      "execution_count": null,
      "outputs": [
        {
          "output_type": "stream",
          "name": "stdout",
          "text": [
            "Length of Rectangle = 6\n",
            "Breadth of Rectangle = 3\n",
            "it is not a Rectangle\n"
          ]
        }
      ]
    },
    {
      "cell_type": "markdown",
      "source": [
        "4. A student will not be allowed to sit in exam if his/her attendance is less \n",
        "than 75%. Take following input from user Number of classes held \n",
        "Number of classes attended. And print percentage of class attended Is \n",
        "student is allowed to sit in exam or not."
      ],
      "metadata": {
        "id": "pibq_BHUAFoH"
      }
    },
    {
      "cell_type": "code",
      "source": [
        "C = int(input('Number of classes held = '))\n",
        "A = int(input('Number of classes attended = '))\n",
        "P = A/C*100\n",
        "if P < 75:\n",
        "  print('Not eligble for Exam')\n",
        "else:\n",
        "  print('Eligble for Exam')"
      ],
      "metadata": {
        "colab": {
          "base_uri": "https://localhost:8080/"
        },
        "id": "FzRkJm3bAGy3",
        "outputId": "abe8aa35-2941-4a4e-af2b-3b1f73881370"
      },
      "execution_count": null,
      "outputs": [
        {
          "output_type": "stream",
          "name": "stdout",
          "text": [
            "Number of classes held = 100\n",
            "Number of classes attended = 80\n",
            "Eligble for Exam\n"
          ]
        }
      ]
    },
    {
      "cell_type": "markdown",
      "source": [
        "5. Create a list by taking length of the list and elements of the list from user. \n",
        "Then find the sum of the elements of the list. Also create a new called even \n",
        "list which contains only even numbers from first list and odd list which \n",
        "contains odd numbers from the list. \n",
        "Sample input:\n",
        "Length of the list = 5\n",
        "List1 = [2,6,3,1,5]\n",
        "Sum = 17\n",
        "Even_list=[2,6]\n",
        "Odd_list=[3,1,5]\n"
      ],
      "metadata": {
        "id": "Go0wMYGxBBxn"
      }
    },
    {
      "cell_type": "code",
      "source": [
        "list = []\n",
        "\n",
        "n = int(input(\"Enter number of elements : \"))\n",
        "\n",
        "for i in range(0, n):\n",
        "    ele = int(input())\n",
        "    list.append(ele)     \n",
        "print(list)\n",
        "total = 0\n",
        "for ele in range(0, len(list)):\n",
        "    total = total + list[ele]\n",
        " \n",
        "print(\"Sum of all elements in given list: \", total)\n",
        "\n",
        " \n",
        "# iterating each number in list\n",
        "even_list =[]\n",
        "odd_list =[]\n",
        "for ele in list:\n",
        " \n",
        "    # checking condition\n",
        "    if ele % 2 == 0:\n",
        "      even_list.append(ele)\n",
        "\n",
        "    else:\n",
        "       odd_list.append(ele)\n",
        "print(odd_list)\n",
        "print(even_list)"
      ],
      "metadata": {
        "colab": {
          "base_uri": "https://localhost:8080/"
        },
        "id": "JyNQuEr6eY7N",
        "outputId": "a8e25996-04dd-41aa-e3c2-7080fe98ecda"
      },
      "execution_count": null,
      "outputs": [
        {
          "output_type": "stream",
          "name": "stdout",
          "text": [
            "Enter number of elements : 3\n",
            "1\n",
            "3\n",
            "4\n",
            "[1, 3, 4]\n",
            "Sum of all elements in given list:  8\n",
            "[1, 3]\n",
            "[4]\n"
          ]
        }
      ]
    },
    {
      "cell_type": "markdown",
      "source": [
        "6. Create a sample chatbot for an ecommerce website."
      ],
      "metadata": {
        "id": "E4DQfwMXBYHH"
      }
    },
    {
      "cell_type": "code",
      "source": [
        "print('Welcome to E-CART')\n",
        "\n",
        "while True:\n",
        "    x = input('pls your request ')\n",
        "    x=x.lower()\n",
        "    if x =='nothing':\n",
        "        print('See you later!')\n",
        "        break\n",
        "    y=x.split()\n",
        "    if len(y)==0:\n",
        "        print('Please give a valid input')\n",
        "    elif 'order' in y:\n",
        "        print('order id')\n",
        "    elif 'how' in y:\n",
        "        print('Please vist E-CART website')\n",
        "    elif 'price' in y:\n",
        "        print('Please vist cataloge in E-CART website')\n",
        "    else:\n",
        "        print(input('anything more '))"
      ],
      "metadata": {
        "colab": {
          "base_uri": "https://localhost:8080/"
        },
        "id": "q7XvvvmHTCIt",
        "outputId": "516d7158-a729-4f05-d915-b77d5ea9d31f"
      },
      "execution_count": 6,
      "outputs": [
        {
          "output_type": "stream",
          "name": "stdout",
          "text": [
            "Welcome to E-CART\n",
            "pls your requestprice\n",
            "Please vist cataloge in E-CART website\n",
            "pls your requestno\n",
            "anything morenothing\n",
            "nothing\n",
            "pls your requestnothing\n",
            "See you later!\n"
          ]
        }
      ]
    },
    {
      "cell_type": "markdown",
      "source": [
        "7. Write a program to find the roots of a quadratic equation. Get the co-efficients of quadratic equation ax^2+bx+c and display whether the roots \n",
        "are real and equal or real and distinct or roots are imaginary. You have to \n",
        "find the roots and display it as well."
      ],
      "metadata": {
        "id": "Yx2Bs_VUDyIX"
      }
    },
    {
      "cell_type": "code",
      "source": [
        "import math\n",
        "a = int(input(\"co-efficients of x^2 term: \"))\n",
        "if a ==0:\n",
        "  print('Invalid')\n",
        "else:\n",
        "  b = int(input(\"co-efficients of x term: \"))\n",
        "  c = int(input(\"constant term: \"))\n",
        "\n",
        "d = (b*b)-4*a*c\n",
        "sqrt_d = math.sqrt(abs(d))\n",
        "\n",
        "if d > 0:\n",
        "  print(\"real roots \")\n",
        "  print((-b + sqrt_d)/(2 * a))\n",
        "  print((-b - sqrt_d)/(2 * a))\n",
        "elif d == 0:\n",
        "  print(\"real roots and same\")\n",
        "  print(-b / (2*a))\n",
        "else:\n",
        "  print(\"imaginary roots\")\n",
        "  print(- b / (2*a), \" + i\", sqrt_d / (2 * a))\n",
        "  print(- b / (2*a), \" - i\", sqrt_d / (2 * a))"
      ],
      "metadata": {
        "colab": {
          "base_uri": "https://localhost:8080/"
        },
        "id": "2dgeRTw6EII_",
        "outputId": "a7adc7df-04dd-492b-98f1-45bf7c36b5ab"
      },
      "execution_count": null,
      "outputs": [
        {
          "output_type": "stream",
          "name": "stdout",
          "text": [
            "co-efficients of x^2 term: 2\n",
            "co-efficients of x term: 4\n",
            "constant term: 2\n",
            "real roots and same\n",
            "-1.0\n"
          ]
        }
      ]
    },
    {
      "cell_type": "markdown",
      "source": [
        "8. Given a range of first 10 numbers, write a Python program to iterate from \n",
        "start number to the end number and print the sum of the current number \n",
        "and previous number. \n",
        "Sample input: 1….10 \n",
        "Sample output: Current Number 1 Previous Number 0 Sum: 1\n",
        "Current Number 2 Previous Number 1 Sum: 3 \n",
        "Current Number 3 Previous Number 2 Sum: 5… \n",
        "…….\n",
        "Current Number 10 Previous Number 9 Sum: 19"
      ],
      "metadata": {
        "id": "5UkZ_jZvKEiX"
      }
    },
    {
      "cell_type": "code",
      "source": [
        "previous_num = 0\n",
        "for i in range(1, 11):\n",
        "    sum = previous_num + i\n",
        "    print(f'Current number {i} Previous Number {previous_num} is {sum}')\n",
        "    previous_num = i"
      ],
      "metadata": {
        "colab": {
          "base_uri": "https://localhost:8080/"
        },
        "id": "bLDyxeLSOmYw",
        "outputId": "cbe9fe47-d408-4ccb-d656-8f93e9f93ed2"
      },
      "execution_count": null,
      "outputs": [
        {
          "output_type": "stream",
          "name": "stdout",
          "text": [
            "Current number 1 Previous Number 0 is 1\n",
            "Current number 2 Previous Number 1 is 3\n",
            "Current number 3 Previous Number 2 is 5\n",
            "Current number 4 Previous Number 3 is 7\n",
            "Current number 5 Previous Number 4 is 9\n",
            "Current number 6 Previous Number 5 is 11\n",
            "Current number 7 Previous Number 6 is 13\n",
            "Current number 8 Previous Number 7 is 15\n",
            "Current number 9 Previous Number 8 is 17\n",
            "Current number 10 Previous Number 9 is 19\n"
          ]
        }
      ]
    },
    {
      "cell_type": "markdown",
      "source": [
        "9. Write a Python program to find the prime numbers in a given range. Get \n",
        "the range from user and print prime numbers in that range."
      ],
      "metadata": {
        "id": "MaaLRbfoQGxo"
      }
    },
    {
      "cell_type": "code",
      "source": [
        "lower_value = int(input (\"Please, Enter the Lowest Range Value: \"))  \n",
        "upper_value = int(input (\"Please, Enter the Upper Range Value: \"))  \n",
        "  \n",
        "print (\"The Prime Numbers in the range are: \")  \n",
        "for number in range (lower_value, upper_value + 1):  \n",
        "    if number > 1:  \n",
        "        for i in range (2, number):  \n",
        "            if (number % i) == 0:  \n",
        "                break  \n",
        "        else:  \n",
        "            print (number)  "
      ],
      "metadata": {
        "colab": {
          "base_uri": "https://localhost:8080/"
        },
        "id": "jtt_ssDHQILw",
        "outputId": "f9d4685d-5899-48ab-9f3b-799e0387e322"
      },
      "execution_count": null,
      "outputs": [
        {
          "output_type": "stream",
          "name": "stdout",
          "text": [
            "Please, Enter the Lowest Range Value: 7\n",
            "Please, Enter the Upper Range Value: 15\n",
            "The Prime Numbers in the range are: \n",
            "7\n",
            "11\n",
            "13\n"
          ]
        }
      ]
    },
    {
      "cell_type": "markdown",
      "source": [
        "10. Write a Python program to print Fibonacci series in a given range. Get \n",
        "the range from user and print prime numbers in that range"
      ],
      "metadata": {
        "id": "rxUpCH76SS1a"
      }
    },
    {
      "cell_type": "code",
      "source": [
        "number = int(input(\"enter the number of terms for Fibonacci series :\"))\n",
        "n_1, n_2 = 0, 1\n",
        "count = 0\n",
        "\n",
        "if number <= 0:\n",
        "   print(\"Please enter a positive integer\")\n",
        "elif number== 1:\n",
        "   print(\"Fibonacci series upto\",number,\":\")\n",
        "   print(n_1)\n",
        "else:\n",
        "  print(\"Fibonacci_series:\")\n",
        "  while count < number:\n",
        "       print(n1)\n",
        "       nth = n1 + n2\n",
        "       # update values\n",
        "       n1 = n2\n",
        "       n2 = nth\n",
        "       count += 1"
      ],
      "metadata": {
        "colab": {
          "base_uri": "https://localhost:8080/"
        },
        "id": "u3d4GBEsRnOw",
        "outputId": "fdfc9bc8-e62d-43d4-c9f2-5a9536aec759"
      },
      "execution_count": null,
      "outputs": [
        {
          "output_type": "stream",
          "name": "stdout",
          "text": [
            "enter the number of terms for Fibonacci series :7\n",
            "Fibonacci_series:\n",
            "13\n",
            "21\n",
            "34\n",
            "55\n",
            "89\n",
            "144\n",
            "233\n"
          ]
        }
      ]
    }
  ]
}