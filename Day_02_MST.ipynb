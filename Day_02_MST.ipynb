{
 "cells": [
  {
   "cell_type": "markdown",
   "id": "6e734532",
   "metadata": {},
   "source": [
    "## Operators"
   ]
  },
  {
   "cell_type": "markdown",
   "id": "91917d4e",
   "metadata": {},
   "source": [
    "# Arithmetic operators "
   ]
  },
  {
   "cell_type": "code",
   "execution_count": 1,
   "id": "95b1c704",
   "metadata": {},
   "outputs": [],
   "source": [
    "a = 8\n",
    "b = 7"
   ]
  },
  {
   "cell_type": "code",
   "execution_count": 2,
   "id": "665eecbb",
   "metadata": {},
   "outputs": [
    {
     "data": {
      "text/plain": [
       "15"
      ]
     },
     "execution_count": 2,
     "metadata": {},
     "output_type": "execute_result"
    }
   ],
   "source": [
    "a+b"
   ]
  },
  {
   "cell_type": "code",
   "execution_count": 3,
   "id": "62a04d95",
   "metadata": {},
   "outputs": [
    {
     "data": {
      "text/plain": [
       "1"
      ]
     },
     "execution_count": 3,
     "metadata": {},
     "output_type": "execute_result"
    }
   ],
   "source": [
    "a-b"
   ]
  },
  {
   "cell_type": "code",
   "execution_count": 4,
   "id": "83cd0ee5",
   "metadata": {},
   "outputs": [
    {
     "data": {
      "text/plain": [
       "1.1428571428571428"
      ]
     },
     "execution_count": 4,
     "metadata": {},
     "output_type": "execute_result"
    }
   ],
   "source": [
    "a/b"
   ]
  },
  {
   "cell_type": "code",
   "execution_count": 5,
   "id": "522449d7",
   "metadata": {},
   "outputs": [
    {
     "data": {
      "text/plain": [
       "1"
      ]
     },
     "execution_count": 5,
     "metadata": {},
     "output_type": "execute_result"
    }
   ],
   "source": [
    "a//b  #floor division"
   ]
  },
  {
   "cell_type": "code",
   "execution_count": 6,
   "id": "4aca28de",
   "metadata": {},
   "outputs": [
    {
     "data": {
      "text/plain": [
       "1"
      ]
     },
     "execution_count": 6,
     "metadata": {},
     "output_type": "execute_result"
    }
   ],
   "source": [
    "a%b  #modulus operator This will return the reminder of the division"
   ]
  },
  {
   "cell_type": "code",
   "execution_count": 31,
   "id": "bf2be66f",
   "metadata": {},
   "outputs": [
    {
     "data": {
      "text/plain": [
       "-1"
      ]
     },
     "execution_count": 31,
     "metadata": {},
     "output_type": "execute_result"
    }
   ],
   "source": [
    "5%-2"
   ]
  },
  {
   "cell_type": "code",
   "execution_count": 32,
   "id": "18c420b9",
   "metadata": {},
   "outputs": [
    {
     "data": {
      "text/plain": [
       "1"
      ]
     },
     "execution_count": 32,
     "metadata": {},
     "output_type": "execute_result"
    }
   ],
   "source": [
    "-5%2"
   ]
  },
  {
   "cell_type": "code",
   "execution_count": 7,
   "id": "1c101ff1",
   "metadata": {},
   "outputs": [
    {
     "data": {
      "text/plain": [
       "16"
      ]
     },
     "execution_count": 7,
     "metadata": {},
     "output_type": "execute_result"
    }
   ],
   "source": [
    "4**2  #4 to the power 2"
   ]
  },
  {
   "cell_type": "code",
   "execution_count": 11,
   "id": "691597d5",
   "metadata": {},
   "outputs": [
    {
     "name": "stdout",
     "output_type": "stream",
     "text": [
      "Enter the side of square5\n",
      "Area  =  25 sqcm\n",
      "Perimeter = 20 cm\n"
     ]
    }
   ],
   "source": [
    "#get the side of a square from user\n",
    "# print its area and perimeter\n",
    "side = int(input('Enter the side of square'))\n",
    "print('Area  = ',side**2,'sqcm')\n",
    "print('Perimeter =',4*side,'cm')\n",
    "        "
   ]
  },
  {
   "cell_type": "code",
   "execution_count": 12,
   "id": "c2f296b4",
   "metadata": {},
   "outputs": [
    {
     "name": "stdout",
     "output_type": "stream",
     "text": [
      "Enter the radius2\n",
      "area =  12.56\n",
      "perimeter =   12.56\n"
     ]
    }
   ],
   "source": [
    "#get the radius of a circle from user\n",
    "# print its area and perimeter\n",
    "r = int(input('Enter the radius'))\n",
    "print('area = ',3.14*r*r )\n",
    "print('perimeter =  ',2*3.14*r)"
   ]
  },
  {
   "cell_type": "code",
   "execution_count": 20,
   "id": "c0d5a827",
   "metadata": {},
   "outputs": [
    {
     "name": "stdout",
     "output_type": "stream",
     "text": [
      "Enter the radius2\n",
      "area =  12.566370614359172\n",
      "perimeter =   12.566370614359172\n"
     ]
    }
   ],
   "source": [
    "#get the radius of a circle from user\n",
    "# print its area and perimeter\n",
    "\n",
    "import math\n",
    "\n",
    "r = int(input('Enter the radius'))\n",
    "print('area = ',math.pi*r*r )\n",
    "print('perimeter =  ',2*math.pi*r)"
   ]
  },
  {
   "cell_type": "code",
   "execution_count": 17,
   "id": "76d92dc1",
   "metadata": {},
   "outputs": [
    {
     "data": {
      "text/plain": [
       "3.141592653589793"
      ]
     },
     "execution_count": 17,
     "metadata": {},
     "output_type": "execute_result"
    }
   ],
   "source": [
    "math.pi"
   ]
  },
  {
   "cell_type": "code",
   "execution_count": 21,
   "id": "936b24fa",
   "metadata": {},
   "outputs": [
    {
     "data": {
      "text/plain": [
       "3"
      ]
     },
     "execution_count": 21,
     "metadata": {},
     "output_type": "execute_result"
    }
   ],
   "source": [
    "round(math.pi)"
   ]
  },
  {
   "cell_type": "code",
   "execution_count": 23,
   "id": "e2cb8261",
   "metadata": {},
   "outputs": [
    {
     "data": {
      "text/plain": [
       "3"
      ]
     },
     "execution_count": 23,
     "metadata": {},
     "output_type": "execute_result"
    }
   ],
   "source": [
    "math.ceil(2.1)"
   ]
  },
  {
   "cell_type": "code",
   "execution_count": 24,
   "id": "75263b0c",
   "metadata": {},
   "outputs": [
    {
     "data": {
      "text/plain": [
       "2"
      ]
     },
     "execution_count": 24,
     "metadata": {},
     "output_type": "execute_result"
    }
   ],
   "source": [
    "math.floor(2.9)"
   ]
  },
  {
   "cell_type": "code",
   "execution_count": 25,
   "id": "26417a4b",
   "metadata": {},
   "outputs": [
    {
     "data": {
      "text/plain": [
       "3"
      ]
     },
     "execution_count": 25,
     "metadata": {},
     "output_type": "execute_result"
    }
   ],
   "source": [
    "round(3.055)"
   ]
  },
  {
   "cell_type": "code",
   "execution_count": 26,
   "id": "56cb0eb0",
   "metadata": {},
   "outputs": [
    {
     "data": {
      "text/plain": [
       "3.14"
      ]
     },
     "execution_count": 26,
     "metadata": {},
     "output_type": "execute_result"
    }
   ],
   "source": [
    "round(3.144,2)"
   ]
  },
  {
   "cell_type": "code",
   "execution_count": 27,
   "id": "019d4924",
   "metadata": {},
   "outputs": [
    {
     "data": {
      "text/plain": [
       "3"
      ]
     },
     "execution_count": 27,
     "metadata": {},
     "output_type": "execute_result"
    }
   ],
   "source": [
    "round(3.1)"
   ]
  },
  {
   "cell_type": "code",
   "execution_count": 28,
   "id": "4e7c95be",
   "metadata": {},
   "outputs": [
    {
     "data": {
      "text/plain": [
       "4"
      ]
     },
     "execution_count": 28,
     "metadata": {},
     "output_type": "execute_result"
    }
   ],
   "source": [
    "round(3.5)"
   ]
  },
  {
   "cell_type": "code",
   "execution_count": 29,
   "id": "07ef27c4",
   "metadata": {},
   "outputs": [
    {
     "data": {
      "text/plain": [
       "4"
      ]
     },
     "execution_count": 29,
     "metadata": {},
     "output_type": "execute_result"
    }
   ],
   "source": [
    "math.ceil(3.1)"
   ]
  },
  {
   "cell_type": "code",
   "execution_count": 30,
   "id": "29fda319",
   "metadata": {},
   "outputs": [
    {
     "data": {
      "text/plain": [
       "3"
      ]
     },
     "execution_count": 30,
     "metadata": {},
     "output_type": "execute_result"
    }
   ],
   "source": [
    "math.floor(3.9)"
   ]
  },
  {
   "cell_type": "markdown",
   "id": "04f2e507",
   "metadata": {},
   "source": [
    "# Relational Operators"
   ]
  },
  {
   "cell_type": "code",
   "execution_count": 33,
   "id": "76942bed",
   "metadata": {},
   "outputs": [],
   "source": [
    "a = 5 \n",
    "b = 3"
   ]
  },
  {
   "cell_type": "code",
   "execution_count": 34,
   "id": "a465b91e",
   "metadata": {},
   "outputs": [
    {
     "data": {
      "text/plain": [
       "True"
      ]
     },
     "execution_count": 34,
     "metadata": {},
     "output_type": "execute_result"
    }
   ],
   "source": [
    "a>b"
   ]
  },
  {
   "cell_type": "code",
   "execution_count": 35,
   "id": "b21bb9e7",
   "metadata": {},
   "outputs": [
    {
     "data": {
      "text/plain": [
       "False"
      ]
     },
     "execution_count": 35,
     "metadata": {},
     "output_type": "execute_result"
    }
   ],
   "source": [
    "a<b"
   ]
  },
  {
   "cell_type": "code",
   "execution_count": 36,
   "id": "7f32350d",
   "metadata": {},
   "outputs": [
    {
     "data": {
      "text/plain": [
       "False"
      ]
     },
     "execution_count": 36,
     "metadata": {},
     "output_type": "execute_result"
    }
   ],
   "source": [
    "a==b"
   ]
  },
  {
   "cell_type": "code",
   "execution_count": 37,
   "id": "82676305",
   "metadata": {},
   "outputs": [
    {
     "data": {
      "text/plain": [
       "True"
      ]
     },
     "execution_count": 37,
     "metadata": {},
     "output_type": "execute_result"
    }
   ],
   "source": [
    "a!=b"
   ]
  },
  {
   "cell_type": "code",
   "execution_count": 38,
   "id": "80a2825c",
   "metadata": {},
   "outputs": [
    {
     "data": {
      "text/plain": [
       "True"
      ]
     },
     "execution_count": 38,
     "metadata": {},
     "output_type": "execute_result"
    }
   ],
   "source": [
    "a>=b"
   ]
  },
  {
   "cell_type": "code",
   "execution_count": 39,
   "id": "e0b598ea",
   "metadata": {},
   "outputs": [
    {
     "data": {
      "text/plain": [
       "False"
      ]
     },
     "execution_count": 39,
     "metadata": {},
     "output_type": "execute_result"
    }
   ],
   "source": [
    "a<=b"
   ]
  },
  {
   "cell_type": "code",
   "execution_count": 40,
   "id": "9f173c5f",
   "metadata": {},
   "outputs": [],
   "source": [
    "name = 'Chinnu'\n",
    "age = 5"
   ]
  },
  {
   "cell_type": "code",
   "execution_count": 41,
   "id": "cb92b06e",
   "metadata": {},
   "outputs": [
    {
     "data": {
      "text/plain": [
       "True"
      ]
     },
     "execution_count": 41,
     "metadata": {},
     "output_type": "execute_result"
    }
   ],
   "source": [
    "name=='Chinnu' and age==5"
   ]
  },
  {
   "cell_type": "code",
   "execution_count": 47,
   "id": "4364a5fe",
   "metadata": {},
   "outputs": [
    {
     "data": {
      "text/plain": [
       "False"
      ]
     },
     "execution_count": 47,
     "metadata": {},
     "output_type": "execute_result"
    }
   ],
   "source": [
    "name=='Chinnu' and age==6"
   ]
  },
  {
   "cell_type": "code",
   "execution_count": 43,
   "id": "ef4380f5",
   "metadata": {},
   "outputs": [
    {
     "data": {
      "text/plain": [
       "True"
      ]
     },
     "execution_count": 43,
     "metadata": {},
     "output_type": "execute_result"
    }
   ],
   "source": [
    "name=='Chinnu' or age==5"
   ]
  },
  {
   "cell_type": "code",
   "execution_count": 44,
   "id": "40372d32",
   "metadata": {},
   "outputs": [
    {
     "data": {
      "text/plain": [
       "True"
      ]
     },
     "execution_count": 44,
     "metadata": {},
     "output_type": "execute_result"
    }
   ],
   "source": [
    "name=='Chinnu' or age==6"
   ]
  },
  {
   "cell_type": "code",
   "execution_count": 62,
   "id": "7fe5224b",
   "metadata": {},
   "outputs": [
    {
     "data": {
      "text/plain": [
       "False"
      ]
     },
     "execution_count": 62,
     "metadata": {},
     "output_type": "execute_result"
    }
   ],
   "source": [
    "name=='minnu' or age==6"
   ]
  },
  {
   "cell_type": "code",
   "execution_count": 61,
   "id": "ab228e0b",
   "metadata": {},
   "outputs": [
    {
     "name": "stdout",
     "output_type": "stream",
     "text": [
      "4\n",
      "4\n"
     ]
    }
   ],
   "source": [
    "a=4\n",
    "if (a>1) and (a+1>3):\n",
    "    print(a)\n",
    "print(a)"
   ]
  },
  {
   "cell_type": "code",
   "execution_count": 64,
   "id": "6f7b8850",
   "metadata": {},
   "outputs": [
    {
     "data": {
      "text/plain": [
       "True"
      ]
     },
     "execution_count": 64,
     "metadata": {},
     "output_type": "execute_result"
    }
   ],
   "source": [
    "not name=='Minnu'"
   ]
  },
  {
   "cell_type": "code",
   "execution_count": 65,
   "id": "54a88738",
   "metadata": {},
   "outputs": [
    {
     "data": {
      "text/plain": [
       "False"
      ]
     },
     "execution_count": 65,
     "metadata": {},
     "output_type": "execute_result"
    }
   ],
   "source": [
    "not name=='Chinnu'"
   ]
  },
  {
   "cell_type": "markdown",
   "id": "aacd2cfa",
   "metadata": {},
   "source": [
    "# Bitwise operators"
   ]
  },
  {
   "cell_type": "code",
   "execution_count": 66,
   "id": "9f8800d4",
   "metadata": {},
   "outputs": [
    {
     "data": {
      "text/plain": [
       "1"
      ]
     },
     "execution_count": 66,
     "metadata": {},
     "output_type": "execute_result"
    }
   ],
   "source": [
    "a = 5   #  0101\n",
    "b = 3   #  0011\n",
    "\n",
    "a & b"
   ]
  },
  {
   "cell_type": "code",
   "execution_count": 72,
   "id": "3b0f12c8",
   "metadata": {},
   "outputs": [
    {
     "ename": "SyntaxError",
     "evalue": "invalid syntax (2887266676.py, line 1)",
     "output_type": "error",
     "traceback": [
      "\u001b[1;36m  Input \u001b[1;32mIn [72]\u001b[1;36m\u001b[0m\n\u001b[1;33m    a & (b=b+1)\u001b[0m\n\u001b[1;37m          ^\u001b[0m\n\u001b[1;31mSyntaxError\u001b[0m\u001b[1;31m:\u001b[0m invalid syntax\n"
     ]
    }
   ],
   "source": [
    "a & (b=b+1)"
   ]
  },
  {
   "cell_type": "code",
   "execution_count": 67,
   "id": "db1949b4",
   "metadata": {},
   "outputs": [
    {
     "data": {
      "text/plain": [
       "7"
      ]
     },
     "execution_count": 67,
     "metadata": {},
     "output_type": "execute_result"
    }
   ],
   "source": [
    "a | b"
   ]
  },
  {
   "cell_type": "code",
   "execution_count": 68,
   "id": "a04b3d32",
   "metadata": {},
   "outputs": [
    {
     "data": {
      "text/plain": [
       "6"
      ]
     },
     "execution_count": 68,
     "metadata": {},
     "output_type": "execute_result"
    }
   ],
   "source": [
    "a ^ b"
   ]
  },
  {
   "cell_type": "code",
   "execution_count": 69,
   "id": "5563d724",
   "metadata": {},
   "outputs": [
    {
     "data": {
      "text/plain": [
       "-6"
      ]
     },
     "execution_count": 69,
     "metadata": {},
     "output_type": "execute_result"
    }
   ],
   "source": [
    "#not a \n",
    "~a    #-(a+1)"
   ]
  },
  {
   "cell_type": "code",
   "execution_count": 70,
   "id": "6937631b",
   "metadata": {},
   "outputs": [
    {
     "data": {
      "text/plain": [
       "1"
      ]
     },
     "execution_count": 70,
     "metadata": {},
     "output_type": "execute_result"
    }
   ],
   "source": [
    "#bitwise right shift    == a/2^2\n",
    "a>>2     #0101    \n",
    "         #0010\n",
    "         #0001\n",
    "    \n",
    "    "
   ]
  },
  {
   "cell_type": "code",
   "execution_count": 71,
   "id": "d8953f5e",
   "metadata": {},
   "outputs": [
    {
     "data": {
      "text/plain": [
       "20"
      ]
     },
     "execution_count": 71,
     "metadata": {},
     "output_type": "execute_result"
    }
   ],
   "source": [
    "#bitwise left shift \n",
    "\n",
    "a<<2       #0000 0101\n",
    "           # 0000 1010\n",
    "           #0001 0100\n"
   ]
  },
  {
   "cell_type": "markdown",
   "id": "66903980",
   "metadata": {},
   "source": [
    "# Assignment operator"
   ]
  },
  {
   "cell_type": "code",
   "execution_count": 81,
   "id": "7de9bbb5",
   "metadata": {},
   "outputs": [],
   "source": [
    "a = 5\n",
    "b = 3"
   ]
  },
  {
   "cell_type": "code",
   "execution_count": 82,
   "id": "e3fe3964",
   "metadata": {},
   "outputs": [
    {
     "data": {
      "text/plain": [
       "2119008414128"
      ]
     },
     "execution_count": 82,
     "metadata": {},
     "output_type": "execute_result"
    }
   ],
   "source": [
    "id(a)"
   ]
  },
  {
   "cell_type": "code",
   "execution_count": 83,
   "id": "48b5c0eb",
   "metadata": {},
   "outputs": [
    {
     "data": {
      "text/plain": [
       "2119008414064"
      ]
     },
     "execution_count": 83,
     "metadata": {},
     "output_type": "execute_result"
    }
   ],
   "source": [
    "id(b)"
   ]
  },
  {
   "cell_type": "code",
   "execution_count": null,
   "id": "e754a97c",
   "metadata": {},
   "outputs": [],
   "source": []
  },
  {
   "cell_type": "code",
   "execution_count": 85,
   "id": "bd1c7d7c",
   "metadata": {},
   "outputs": [],
   "source": [
    "a = b"
   ]
  },
  {
   "cell_type": "code",
   "execution_count": 86,
   "id": "c9a81a16",
   "metadata": {},
   "outputs": [
    {
     "data": {
      "text/plain": [
       "2119008414064"
      ]
     },
     "execution_count": 86,
     "metadata": {},
     "output_type": "execute_result"
    }
   ],
   "source": [
    "id(a)"
   ]
  },
  {
   "cell_type": "code",
   "execution_count": 87,
   "id": "4ef6a8b1",
   "metadata": {},
   "outputs": [],
   "source": [
    "b = 5"
   ]
  },
  {
   "cell_type": "code",
   "execution_count": 89,
   "id": "3e2ab584",
   "metadata": {},
   "outputs": [
    {
     "data": {
      "text/plain": [
       "2119008414128"
      ]
     },
     "execution_count": 89,
     "metadata": {},
     "output_type": "execute_result"
    }
   ],
   "source": [
    "id(b)"
   ]
  },
  {
   "cell_type": "code",
   "execution_count": 90,
   "id": "7b55ec54",
   "metadata": {},
   "outputs": [],
   "source": [
    "b +=1"
   ]
  },
  {
   "cell_type": "code",
   "execution_count": 91,
   "id": "1b0359e9",
   "metadata": {},
   "outputs": [
    {
     "data": {
      "text/plain": [
       "2119008414160"
      ]
     },
     "execution_count": 91,
     "metadata": {},
     "output_type": "execute_result"
    }
   ],
   "source": [
    "id(b)"
   ]
  },
  {
   "cell_type": "code",
   "execution_count": null,
   "id": "b7d4f6b2",
   "metadata": {},
   "outputs": [],
   "source": []
  },
  {
   "cell_type": "code",
   "execution_count": 88,
   "id": "3153fd8e",
   "metadata": {},
   "outputs": [
    {
     "data": {
      "text/plain": [
       "3"
      ]
     },
     "execution_count": 88,
     "metadata": {},
     "output_type": "execute_result"
    }
   ],
   "source": [
    "a"
   ]
  },
  {
   "cell_type": "code",
   "execution_count": null,
   "id": "d2e8c3b7",
   "metadata": {},
   "outputs": [],
   "source": []
  },
  {
   "cell_type": "code",
   "execution_count": 75,
   "id": "f03f09e6",
   "metadata": {},
   "outputs": [
    {
     "data": {
      "text/plain": [
       "3"
      ]
     },
     "execution_count": 75,
     "metadata": {},
     "output_type": "execute_result"
    }
   ],
   "source": [
    "a"
   ]
  },
  {
   "cell_type": "code",
   "execution_count": 77,
   "id": "5e847f5d",
   "metadata": {},
   "outputs": [],
   "source": [
    "a += 5   # a=a+5"
   ]
  },
  {
   "cell_type": "code",
   "execution_count": 78,
   "id": "11cc8a43",
   "metadata": {},
   "outputs": [
    {
     "data": {
      "text/plain": [
       "8"
      ]
     },
     "execution_count": 78,
     "metadata": {},
     "output_type": "execute_result"
    }
   ],
   "source": [
    "a"
   ]
  },
  {
   "cell_type": "code",
   "execution_count": 79,
   "id": "b7b33406",
   "metadata": {},
   "outputs": [],
   "source": [
    "a-=3  #a=a-3 "
   ]
  },
  {
   "cell_type": "markdown",
   "id": "a96bd3a1",
   "metadata": {},
   "source": [
    "# List"
   ]
  },
  {
   "cell_type": "code",
   "execution_count": 97,
   "id": "0dd5b3bd",
   "metadata": {},
   "outputs": [],
   "source": [
    "# store Multiple values\n",
    "# can be of same data type or different data type\n",
    "# ordered, mutable,allows duplicates\n"
   ]
  },
  {
   "cell_type": "code",
   "execution_count": 103,
   "id": "afbd3c87",
   "metadata": {},
   "outputs": [],
   "source": [
    "list1 = [1,2,3]"
   ]
  },
  {
   "cell_type": "code",
   "execution_count": 104,
   "id": "4d270868",
   "metadata": {},
   "outputs": [
    {
     "data": {
      "text/plain": [
       "list"
      ]
     },
     "execution_count": 104,
     "metadata": {},
     "output_type": "execute_result"
    }
   ],
   "source": [
    "type(list1)"
   ]
  },
  {
   "cell_type": "code",
   "execution_count": 108,
   "id": "86bf0d91",
   "metadata": {},
   "outputs": [],
   "source": [
    "list2=list((1,2,2,'cat','horse',True))"
   ]
  },
  {
   "cell_type": "code",
   "execution_count": 109,
   "id": "22f73e2c",
   "metadata": {},
   "outputs": [
    {
     "data": {
      "text/plain": [
       "[1, 2, 2, 'cat', 'horse', True]"
      ]
     },
     "execution_count": 109,
     "metadata": {},
     "output_type": "execute_result"
    }
   ],
   "source": [
    "list2"
   ]
  },
  {
   "cell_type": "code",
   "execution_count": 110,
   "id": "8334b8b8",
   "metadata": {},
   "outputs": [
    {
     "data": {
      "text/plain": [
       "list"
      ]
     },
     "execution_count": 110,
     "metadata": {},
     "output_type": "execute_result"
    }
   ],
   "source": [
    "type(list2)"
   ]
  },
  {
   "cell_type": "code",
   "execution_count": 111,
   "id": "d4881f12",
   "metadata": {},
   "outputs": [],
   "source": [
    "list3=[]"
   ]
  },
  {
   "cell_type": "code",
   "execution_count": 112,
   "id": "f898c46e",
   "metadata": {},
   "outputs": [
    {
     "data": {
      "text/plain": [
       "6"
      ]
     },
     "execution_count": 112,
     "metadata": {},
     "output_type": "execute_result"
    }
   ],
   "source": [
    "len(list2)"
   ]
  },
  {
   "cell_type": "code",
   "execution_count": 113,
   "id": "501a9057",
   "metadata": {},
   "outputs": [
    {
     "data": {
      "text/plain": [
       "2"
      ]
     },
     "execution_count": 113,
     "metadata": {},
     "output_type": "execute_result"
    }
   ],
   "source": [
    "list2[1]"
   ]
  },
  {
   "cell_type": "code",
   "execution_count": 114,
   "id": "a07d389d",
   "metadata": {},
   "outputs": [
    {
     "data": {
      "text/plain": [
       "[2, 2, 'cat']"
      ]
     },
     "execution_count": 114,
     "metadata": {},
     "output_type": "execute_result"
    }
   ],
   "source": [
    "list2[1:4]"
   ]
  },
  {
   "cell_type": "code",
   "execution_count": 115,
   "id": "b9d55753",
   "metadata": {},
   "outputs": [
    {
     "data": {
      "text/plain": [
       "[2, 'cat']"
      ]
     },
     "execution_count": 115,
     "metadata": {},
     "output_type": "execute_result"
    }
   ],
   "source": [
    "list2[1:5:2]"
   ]
  },
  {
   "cell_type": "code",
   "execution_count": 116,
   "id": "48c55a46",
   "metadata": {},
   "outputs": [
    {
     "data": {
      "text/plain": [
       "[22, 22, 55, 77, 99, 87, 98, 69, 88, 74]"
      ]
     },
     "execution_count": 116,
     "metadata": {},
     "output_type": "execute_result"
    }
   ],
   "source": [
    "list3=[22,22,55,77,99]\n",
    "list4=[87,98,69,88,74]\n",
    "list3+list4"
   ]
  },
  {
   "cell_type": "code",
   "execution_count": 117,
   "id": "f6ddc3ca",
   "metadata": {},
   "outputs": [],
   "source": [
    "list5=list4"
   ]
  },
  {
   "cell_type": "code",
   "execution_count": 118,
   "id": "15e5d350",
   "metadata": {},
   "outputs": [
    {
     "data": {
      "text/plain": [
       "[87, 98, 69, 88, 74]"
      ]
     },
     "execution_count": 118,
     "metadata": {},
     "output_type": "execute_result"
    }
   ],
   "source": [
    "list5"
   ]
  },
  {
   "cell_type": "code",
   "execution_count": 119,
   "id": "32439d38",
   "metadata": {},
   "outputs": [],
   "source": [
    "list4.append(63)"
   ]
  },
  {
   "cell_type": "code",
   "execution_count": 120,
   "id": "4678569d",
   "metadata": {},
   "outputs": [
    {
     "data": {
      "text/plain": [
       "[87, 98, 69, 88, 74, 63]"
      ]
     },
     "execution_count": 120,
     "metadata": {},
     "output_type": "execute_result"
    }
   ],
   "source": [
    "list4"
   ]
  },
  {
   "cell_type": "code",
   "execution_count": 121,
   "id": "379aa733",
   "metadata": {},
   "outputs": [
    {
     "data": {
      "text/plain": [
       "[87, 98, 69, 88, 74, 63]"
      ]
     },
     "execution_count": 121,
     "metadata": {},
     "output_type": "execute_result"
    }
   ],
   "source": [
    "list5"
   ]
  },
  {
   "cell_type": "code",
   "execution_count": 122,
   "id": "8cbf38eb",
   "metadata": {},
   "outputs": [
    {
     "data": {
      "text/plain": [
       "2119123915328"
      ]
     },
     "execution_count": 122,
     "metadata": {},
     "output_type": "execute_result"
    }
   ],
   "source": [
    "id(list4)"
   ]
  },
  {
   "cell_type": "code",
   "execution_count": 123,
   "id": "bb0e4189",
   "metadata": {},
   "outputs": [
    {
     "data": {
      "text/plain": [
       "2119123915328"
      ]
     },
     "execution_count": 123,
     "metadata": {},
     "output_type": "execute_result"
    }
   ],
   "source": [
    "id(list5)"
   ]
  },
  {
   "cell_type": "code",
   "execution_count": 124,
   "id": "db248381",
   "metadata": {},
   "outputs": [],
   "source": [
    "list4.append(54) #will add elements to the list as last index"
   ]
  },
  {
   "cell_type": "code",
   "execution_count": 125,
   "id": "1ff6873f",
   "metadata": {},
   "outputs": [
    {
     "data": {
      "text/plain": [
       "[87, 98, 69, 88, 74, 63, 54]"
      ]
     },
     "execution_count": 125,
     "metadata": {},
     "output_type": "execute_result"
    }
   ],
   "source": [
    "list4"
   ]
  },
  {
   "cell_type": "code",
   "execution_count": 126,
   "id": "fe9d1507",
   "metadata": {},
   "outputs": [],
   "source": [
    "list4.insert(3,78)"
   ]
  },
  {
   "cell_type": "code",
   "execution_count": 127,
   "id": "2bcaa1c0",
   "metadata": {},
   "outputs": [
    {
     "data": {
      "text/plain": [
       "[87, 98, 69, 78, 88, 74, 63, 54]"
      ]
     },
     "execution_count": 127,
     "metadata": {},
     "output_type": "execute_result"
    }
   ],
   "source": [
    "list4"
   ]
  },
  {
   "cell_type": "code",
   "execution_count": 131,
   "id": "45ddcd02",
   "metadata": {},
   "outputs": [],
   "source": [
    "list4.append([2,7,8])"
   ]
  },
  {
   "cell_type": "code",
   "execution_count": 132,
   "id": "5b2098c4",
   "metadata": {},
   "outputs": [
    {
     "data": {
      "text/plain": [
       "[87, 98, 69, 78, 88, 74, 63, 54, [2, 7, 8]]"
      ]
     },
     "execution_count": 132,
     "metadata": {},
     "output_type": "execute_result"
    }
   ],
   "source": [
    "list4"
   ]
  },
  {
   "cell_type": "code",
   "execution_count": 134,
   "id": "4cbc771e",
   "metadata": {},
   "outputs": [],
   "source": [
    "list4[3]=75"
   ]
  },
  {
   "cell_type": "code",
   "execution_count": 135,
   "id": "90d38de2",
   "metadata": {},
   "outputs": [
    {
     "data": {
      "text/plain": [
       "[87, 98, 69, 75, 88, 74, 63, 54, [2, 7, 8]]"
      ]
     },
     "execution_count": 135,
     "metadata": {},
     "output_type": "execute_result"
    }
   ],
   "source": [
    "list4"
   ]
  },
  {
   "cell_type": "code",
   "execution_count": 136,
   "id": "6b4e507f",
   "metadata": {},
   "outputs": [
    {
     "data": {
      "text/plain": [
       "[2, 7, 8]"
      ]
     },
     "execution_count": 136,
     "metadata": {},
     "output_type": "execute_result"
    }
   ],
   "source": [
    "list4.pop()"
   ]
  },
  {
   "cell_type": "code",
   "execution_count": 137,
   "id": "5323812a",
   "metadata": {},
   "outputs": [
    {
     "data": {
      "text/plain": [
       "[87, 98, 69, 75, 88, 74, 63, 54]"
      ]
     },
     "execution_count": 137,
     "metadata": {},
     "output_type": "execute_result"
    }
   ],
   "source": [
    "list4"
   ]
  },
  {
   "cell_type": "code",
   "execution_count": 139,
   "id": "c177503d",
   "metadata": {},
   "outputs": [
    {
     "data": {
      "text/plain": [
       "75"
      ]
     },
     "execution_count": 139,
     "metadata": {},
     "output_type": "execute_result"
    }
   ],
   "source": [
    "list4.pop(3)"
   ]
  },
  {
   "cell_type": "code",
   "execution_count": 140,
   "id": "76c2ac94",
   "metadata": {},
   "outputs": [
    {
     "data": {
      "text/plain": [
       "[87, 98, 69, 88, 74, 63, 54]"
      ]
     },
     "execution_count": 140,
     "metadata": {},
     "output_type": "execute_result"
    }
   ],
   "source": [
    "list4"
   ]
  },
  {
   "cell_type": "code",
   "execution_count": 141,
   "id": "14de17b3",
   "metadata": {},
   "outputs": [],
   "source": [
    "list4.remove(69)"
   ]
  },
  {
   "cell_type": "code",
   "execution_count": 142,
   "id": "59cdb431",
   "metadata": {},
   "outputs": [
    {
     "data": {
      "text/plain": [
       "[87, 98, 88, 74, 63, 54]"
      ]
     },
     "execution_count": 142,
     "metadata": {},
     "output_type": "execute_result"
    }
   ],
   "source": [
    "list4"
   ]
  },
  {
   "cell_type": "code",
   "execution_count": 156,
   "id": "28758d74",
   "metadata": {},
   "outputs": [
    {
     "data": {
      "text/plain": [
       "87"
      ]
     },
     "execution_count": 156,
     "metadata": {},
     "output_type": "execute_result"
    }
   ],
   "source": [
    "list4[2]"
   ]
  },
  {
   "cell_type": "code",
   "execution_count": 143,
   "id": "5547884a",
   "metadata": {},
   "outputs": [],
   "source": [
    "list4.sort()"
   ]
  },
  {
   "cell_type": "code",
   "execution_count": 144,
   "id": "a5275718",
   "metadata": {},
   "outputs": [
    {
     "data": {
      "text/plain": [
       "[54, 63, 74, 87, 88, 98]"
      ]
     },
     "execution_count": 144,
     "metadata": {},
     "output_type": "execute_result"
    }
   ],
   "source": [
    "list4"
   ]
  },
  {
   "cell_type": "code",
   "execution_count": 145,
   "id": "42edf70a",
   "metadata": {},
   "outputs": [],
   "source": [
    "list4.sort(reverse=True)"
   ]
  },
  {
   "cell_type": "code",
   "execution_count": 146,
   "id": "e3d3b5fb",
   "metadata": {},
   "outputs": [
    {
     "data": {
      "text/plain": [
       "[98, 88, 87, 74, 63, 54]"
      ]
     },
     "execution_count": 146,
     "metadata": {},
     "output_type": "execute_result"
    }
   ],
   "source": [
    "list4"
   ]
  },
  {
   "cell_type": "code",
   "execution_count": 148,
   "id": "3d22df71",
   "metadata": {},
   "outputs": [],
   "source": [
    "list6=['cat','lion','elephant','zebra']"
   ]
  },
  {
   "cell_type": "code",
   "execution_count": 149,
   "id": "12054985",
   "metadata": {},
   "outputs": [],
   "source": [
    "list6.sort()"
   ]
  },
  {
   "cell_type": "code",
   "execution_count": 150,
   "id": "355a7290",
   "metadata": {},
   "outputs": [
    {
     "data": {
      "text/plain": [
       "['cat', 'elephant', 'lion', 'zebra']"
      ]
     },
     "execution_count": 150,
     "metadata": {},
     "output_type": "execute_result"
    }
   ],
   "source": [
    "list6"
   ]
  },
  {
   "cell_type": "code",
   "execution_count": 151,
   "id": "f3ca2fd2",
   "metadata": {},
   "outputs": [],
   "source": [
    "list7=[1,2,5,3,6,5,9,8,5,6,8,5,9,5,8,5,5]"
   ]
  },
  {
   "cell_type": "code",
   "execution_count": 152,
   "id": "186d2c77",
   "metadata": {},
   "outputs": [
    {
     "data": {
      "text/plain": [
       "7"
      ]
     },
     "execution_count": 152,
     "metadata": {},
     "output_type": "execute_result"
    }
   ],
   "source": [
    "list7.count(5)"
   ]
  },
  {
   "cell_type": "markdown",
   "id": "b1c80762",
   "metadata": {},
   "source": [
    "# Tuples"
   ]
  },
  {
   "cell_type": "code",
   "execution_count": 157,
   "id": "01641b48",
   "metadata": {},
   "outputs": [],
   "source": [
    "#collection of objects\n",
    "#the values can be of different data types\n",
    "#duplicates are allowed,indexind is possible,immutable"
   ]
  },
  {
   "cell_type": "code",
   "execution_count": 158,
   "id": "8156d7c0",
   "metadata": {},
   "outputs": [],
   "source": [
    "t=()"
   ]
  },
  {
   "cell_type": "code",
   "execution_count": 159,
   "id": "d358ce88",
   "metadata": {},
   "outputs": [
    {
     "data": {
      "text/plain": [
       "tuple"
      ]
     },
     "execution_count": 159,
     "metadata": {},
     "output_type": "execute_result"
    }
   ],
   "source": [
    "type(t)"
   ]
  },
  {
   "cell_type": "code",
   "execution_count": 160,
   "id": "d09b86b5",
   "metadata": {},
   "outputs": [],
   "source": [
    "t1 = (1,2,3)"
   ]
  },
  {
   "cell_type": "code",
   "execution_count": 162,
   "id": "d35e63e2",
   "metadata": {},
   "outputs": [],
   "source": [
    "t2 = tuple((3,5,7))"
   ]
  },
  {
   "cell_type": "code",
   "execution_count": 163,
   "id": "a6d30b61",
   "metadata": {},
   "outputs": [
    {
     "data": {
      "text/plain": [
       "tuple"
      ]
     },
     "execution_count": 163,
     "metadata": {},
     "output_type": "execute_result"
    }
   ],
   "source": [
    "type(t2)"
   ]
  },
  {
   "cell_type": "code",
   "execution_count": 164,
   "id": "304bde02",
   "metadata": {},
   "outputs": [
    {
     "data": {
      "text/plain": [
       "7"
      ]
     },
     "execution_count": 164,
     "metadata": {},
     "output_type": "execute_result"
    }
   ],
   "source": [
    "t2[2]"
   ]
  },
  {
   "cell_type": "code",
   "execution_count": 165,
   "id": "602115e6",
   "metadata": {},
   "outputs": [],
   "source": [
    "t3=(1,2,5,7,[5,6,8],8,9)"
   ]
  },
  {
   "cell_type": "code",
   "execution_count": 166,
   "id": "4a88fce2",
   "metadata": {},
   "outputs": [
    {
     "data": {
      "text/plain": [
       "tuple"
      ]
     },
     "execution_count": 166,
     "metadata": {},
     "output_type": "execute_result"
    }
   ],
   "source": [
    "type(t3)"
   ]
  },
  {
   "cell_type": "code",
   "execution_count": 167,
   "id": "0d5226eb",
   "metadata": {},
   "outputs": [
    {
     "data": {
      "text/plain": [
       "[5, 6, 8]"
      ]
     },
     "execution_count": 167,
     "metadata": {},
     "output_type": "execute_result"
    }
   ],
   "source": [
    "t3[4]"
   ]
  },
  {
   "cell_type": "code",
   "execution_count": 168,
   "id": "d6acc759",
   "metadata": {},
   "outputs": [
    {
     "data": {
      "text/plain": [
       "6"
      ]
     },
     "execution_count": 168,
     "metadata": {},
     "output_type": "execute_result"
    }
   ],
   "source": [
    "t3[4][1]"
   ]
  },
  {
   "cell_type": "code",
   "execution_count": 169,
   "id": "47d08f66",
   "metadata": {},
   "outputs": [],
   "source": [
    "t3[4][2]=10"
   ]
  },
  {
   "cell_type": "code",
   "execution_count": 170,
   "id": "3fab1cc1",
   "metadata": {},
   "outputs": [
    {
     "data": {
      "text/plain": [
       "(1, 2, 5, 7, [5, 6, 10], 8, 9)"
      ]
     },
     "execution_count": 170,
     "metadata": {},
     "output_type": "execute_result"
    }
   ],
   "source": [
    "t3"
   ]
  },
  {
   "cell_type": "code",
   "execution_count": 171,
   "id": "446899ee",
   "metadata": {},
   "outputs": [
    {
     "ename": "TypeError",
     "evalue": "'tuple' object does not support item assignment",
     "output_type": "error",
     "traceback": [
      "\u001b[1;31m---------------------------------------------------------------------------\u001b[0m",
      "\u001b[1;31mTypeError\u001b[0m                                 Traceback (most recent call last)",
      "Input \u001b[1;32mIn [171]\u001b[0m, in \u001b[0;36m<cell line: 1>\u001b[1;34m()\u001b[0m\n\u001b[1;32m----> 1\u001b[0m t3[\u001b[38;5;241m2\u001b[39m]\u001b[38;5;241m=\u001b[39m\u001b[38;5;241m2\u001b[39m\n",
      "\u001b[1;31mTypeError\u001b[0m: 'tuple' object does not support item assignment"
     ]
    }
   ],
   "source": [
    "t3[2]=2"
   ]
  },
  {
   "cell_type": "code",
   "execution_count": 172,
   "id": "247d24ba",
   "metadata": {},
   "outputs": [
    {
     "data": {
      "text/plain": [
       "7"
      ]
     },
     "execution_count": 172,
     "metadata": {},
     "output_type": "execute_result"
    }
   ],
   "source": [
    "len(t3)"
   ]
  },
  {
   "cell_type": "code",
   "execution_count": 173,
   "id": "7123914c",
   "metadata": {},
   "outputs": [
    {
     "ename": "AttributeError",
     "evalue": "'tuple' object has no attribute 'append'",
     "output_type": "error",
     "traceback": [
      "\u001b[1;31m---------------------------------------------------------------------------\u001b[0m",
      "\u001b[1;31mAttributeError\u001b[0m                            Traceback (most recent call last)",
      "Input \u001b[1;32mIn [173]\u001b[0m, in \u001b[0;36m<cell line: 1>\u001b[1;34m()\u001b[0m\n\u001b[1;32m----> 1\u001b[0m \u001b[43mt3\u001b[49m\u001b[38;5;241;43m.\u001b[39;49m\u001b[43mappend\u001b[49m(\u001b[38;5;241m3\u001b[39m)\n",
      "\u001b[1;31mAttributeError\u001b[0m: 'tuple' object has no attribute 'append'"
     ]
    }
   ],
   "source": [
    "t3.append(3)"
   ]
  },
  {
   "cell_type": "code",
   "execution_count": 174,
   "id": "d752e3c3",
   "metadata": {},
   "outputs": [
    {
     "ename": "AttributeError",
     "evalue": "'tuple' object has no attribute 'pop'",
     "output_type": "error",
     "traceback": [
      "\u001b[1;31m---------------------------------------------------------------------------\u001b[0m",
      "\u001b[1;31mAttributeError\u001b[0m                            Traceback (most recent call last)",
      "Input \u001b[1;32mIn [174]\u001b[0m, in \u001b[0;36m<cell line: 1>\u001b[1;34m()\u001b[0m\n\u001b[1;32m----> 1\u001b[0m \u001b[43mt3\u001b[49m\u001b[38;5;241;43m.\u001b[39;49m\u001b[43mpop\u001b[49m()\n",
      "\u001b[1;31mAttributeError\u001b[0m: 'tuple' object has no attribute 'pop'"
     ]
    }
   ],
   "source": [
    "t3.pop()"
   ]
  },
  {
   "cell_type": "code",
   "execution_count": 175,
   "id": "497c4b54",
   "metadata": {},
   "outputs": [
    {
     "ename": "AttributeError",
     "evalue": "'tuple' object has no attribute 'sort'",
     "output_type": "error",
     "traceback": [
      "\u001b[1;31m---------------------------------------------------------------------------\u001b[0m",
      "\u001b[1;31mAttributeError\u001b[0m                            Traceback (most recent call last)",
      "Input \u001b[1;32mIn [175]\u001b[0m, in \u001b[0;36m<cell line: 1>\u001b[1;34m()\u001b[0m\n\u001b[1;32m----> 1\u001b[0m \u001b[43mt3\u001b[49m\u001b[38;5;241;43m.\u001b[39;49m\u001b[43msort\u001b[49m()\n",
      "\u001b[1;31mAttributeError\u001b[0m: 'tuple' object has no attribute 'sort'"
     ]
    }
   ],
   "source": [
    "t3.sort()"
   ]
  },
  {
   "cell_type": "code",
   "execution_count": 181,
   "id": "edcf5fca",
   "metadata": {},
   "outputs": [
    {
     "data": {
      "text/plain": [
       "0"
      ]
     },
     "execution_count": 181,
     "metadata": {},
     "output_type": "execute_result"
    }
   ],
   "source": [
    "t3.count(4)"
   ]
  },
  {
   "cell_type": "code",
   "execution_count": 180,
   "id": "2ba53f31",
   "metadata": {},
   "outputs": [],
   "source": [
    "t4=(4,5,'')"
   ]
  },
  {
   "cell_type": "markdown",
   "id": "f13b26b4",
   "metadata": {},
   "source": [
    "# Dictionaries"
   ]
  },
  {
   "cell_type": "code",
   "execution_count": 182,
   "id": "fd8bba3f",
   "metadata": {},
   "outputs": [],
   "source": [
    "d = {'maya':25,'vishnupriya':52,'abhiram':85,'sujata':44}"
   ]
  },
  {
   "cell_type": "code",
   "execution_count": 183,
   "id": "fee1df01",
   "metadata": {},
   "outputs": [
    {
     "data": {
      "text/plain": [
       "85"
      ]
     },
     "execution_count": 183,
     "metadata": {},
     "output_type": "execute_result"
    }
   ],
   "source": [
    "d['abhiram']"
   ]
  },
  {
   "cell_type": "code",
   "execution_count": 184,
   "id": "85814ecf",
   "metadata": {},
   "outputs": [],
   "source": [
    "d['abhiram']=75"
   ]
  },
  {
   "cell_type": "code",
   "execution_count": 185,
   "id": "78f3b2b5",
   "metadata": {},
   "outputs": [
    {
     "data": {
      "text/plain": [
       "{'maya': 25, 'vishnupriya': 52, 'abhiram': 75, 'sujata': 44}"
      ]
     },
     "execution_count": 185,
     "metadata": {},
     "output_type": "execute_result"
    }
   ],
   "source": [
    "d"
   ]
  },
  {
   "cell_type": "code",
   "execution_count": 186,
   "id": "9122e384",
   "metadata": {},
   "outputs": [],
   "source": [
    "d1={'maya':[22,33,44,55,44],'abhiram':[88,44,55,66],'devi':[55,77,88,99]}"
   ]
  },
  {
   "cell_type": "code",
   "execution_count": 187,
   "id": "044866ba",
   "metadata": {},
   "outputs": [
    {
     "data": {
      "text/plain": [
       "44"
      ]
     },
     "execution_count": 187,
     "metadata": {},
     "output_type": "execute_result"
    }
   ],
   "source": [
    "d1['maya'][4]"
   ]
  },
  {
   "cell_type": "code",
   "execution_count": 188,
   "id": "030d49d9",
   "metadata": {},
   "outputs": [],
   "source": [
    "d1['maya'][4]=88"
   ]
  },
  {
   "cell_type": "code",
   "execution_count": 189,
   "id": "9799e5a3",
   "metadata": {},
   "outputs": [
    {
     "data": {
      "text/plain": [
       "{'maya': [22, 33, 44, 55, 88],\n",
       " 'abhiram': [88, 44, 55, 66],\n",
       " 'devi': [55, 77, 88, 99]}"
      ]
     },
     "execution_count": 189,
     "metadata": {},
     "output_type": "execute_result"
    }
   ],
   "source": [
    "d1"
   ]
  },
  {
   "cell_type": "code",
   "execution_count": 190,
   "id": "0e6c8322",
   "metadata": {},
   "outputs": [],
   "source": [
    "d2={1:2,2:3}"
   ]
  },
  {
   "cell_type": "code",
   "execution_count": 191,
   "id": "697314c9",
   "metadata": {},
   "outputs": [
    {
     "data": {
      "text/plain": [
       "2"
      ]
     },
     "execution_count": 191,
     "metadata": {},
     "output_type": "execute_result"
    }
   ],
   "source": [
    "d2[1]"
   ]
  },
  {
   "cell_type": "code",
   "execution_count": 192,
   "id": "54cc1e41",
   "metadata": {},
   "outputs": [],
   "source": [
    "del d1['maya']"
   ]
  },
  {
   "cell_type": "code",
   "execution_count": 193,
   "id": "8d6dc9ce",
   "metadata": {},
   "outputs": [
    {
     "data": {
      "text/plain": [
       "{'abhiram': [88, 44, 55, 66], 'devi': [55, 77, 88, 99]}"
      ]
     },
     "execution_count": 193,
     "metadata": {},
     "output_type": "execute_result"
    }
   ],
   "source": [
    "d1"
   ]
  },
  {
   "cell_type": "code",
   "execution_count": 194,
   "id": "6df49879",
   "metadata": {},
   "outputs": [
    {
     "data": {
      "text/plain": [
       "[88, 44, 55, 66]"
      ]
     },
     "execution_count": 194,
     "metadata": {},
     "output_type": "execute_result"
    }
   ],
   "source": [
    "d1.pop('abhiram')"
   ]
  },
  {
   "cell_type": "code",
   "execution_count": 195,
   "id": "3ab1b814",
   "metadata": {},
   "outputs": [
    {
     "data": {
      "text/plain": [
       "{'devi': [55, 77, 88, 99]}"
      ]
     },
     "execution_count": 195,
     "metadata": {},
     "output_type": "execute_result"
    }
   ],
   "source": [
    "d1"
   ]
  },
  {
   "cell_type": "code",
   "execution_count": 196,
   "id": "8190c5d8",
   "metadata": {},
   "outputs": [
    {
     "data": {
      "text/plain": [
       "1"
      ]
     },
     "execution_count": 196,
     "metadata": {},
     "output_type": "execute_result"
    }
   ],
   "source": [
    "len(d1)"
   ]
  },
  {
   "cell_type": "code",
   "execution_count": 201,
   "id": "5a27439f",
   "metadata": {},
   "outputs": [],
   "source": [
    "d3 = {101:[22,55,33],'maya':[78,99,88],103:[87,89,88]}"
   ]
  },
  {
   "cell_type": "code",
   "execution_count": 203,
   "id": "76a3ba0a",
   "metadata": {},
   "outputs": [
    {
     "data": {
      "text/plain": [
       "[78, 99, 88]"
      ]
     },
     "execution_count": 203,
     "metadata": {},
     "output_type": "execute_result"
    }
   ],
   "source": [
    "d3['maya']"
   ]
  },
  {
   "cell_type": "code",
   "execution_count": 204,
   "id": "f6537c7b",
   "metadata": {},
   "outputs": [],
   "source": [
    "d3['maya'][2]=77"
   ]
  },
  {
   "cell_type": "code",
   "execution_count": 205,
   "id": "b166b953",
   "metadata": {},
   "outputs": [
    {
     "data": {
      "text/plain": [
       "{101: [22, 55, 33], 'maya': [78, 99, 77], 103: [87, 89, 88]}"
      ]
     },
     "execution_count": 205,
     "metadata": {},
     "output_type": "execute_result"
    }
   ],
   "source": [
    "d3"
   ]
  },
  {
   "cell_type": "markdown",
   "id": "2fda6362",
   "metadata": {},
   "source": [
    "# Sets"
   ]
  },
  {
   "cell_type": "code",
   "execution_count": 206,
   "id": "e296c4a4",
   "metadata": {},
   "outputs": [],
   "source": [
    "#unorderd\n",
    "#duplicates not allowed\n",
    "#immutable\n"
   ]
  },
  {
   "cell_type": "code",
   "execution_count": 207,
   "id": "3cdba552",
   "metadata": {},
   "outputs": [],
   "source": [
    "s = set([1,2,'k'])"
   ]
  },
  {
   "cell_type": "code",
   "execution_count": 208,
   "id": "ab50f1c5",
   "metadata": {},
   "outputs": [
    {
     "data": {
      "text/plain": [
       "{1, 2, 'k'}"
      ]
     },
     "execution_count": 208,
     "metadata": {},
     "output_type": "execute_result"
    }
   ],
   "source": [
    "s"
   ]
  },
  {
   "cell_type": "code",
   "execution_count": 209,
   "id": "8f025475",
   "metadata": {},
   "outputs": [],
   "source": [
    "s1={1,2,2,3,2,2,2,2}"
   ]
  },
  {
   "cell_type": "code",
   "execution_count": 210,
   "id": "374e39b0",
   "metadata": {},
   "outputs": [
    {
     "data": {
      "text/plain": [
       "{1, 2, 3}"
      ]
     },
     "execution_count": 210,
     "metadata": {},
     "output_type": "execute_result"
    }
   ],
   "source": [
    "s1"
   ]
  },
  {
   "cell_type": "code",
   "execution_count": 211,
   "id": "a3567fb6",
   "metadata": {},
   "outputs": [
    {
     "ename": "TypeError",
     "evalue": "'set' object is not subscriptable",
     "output_type": "error",
     "traceback": [
      "\u001b[1;31m---------------------------------------------------------------------------\u001b[0m",
      "\u001b[1;31mTypeError\u001b[0m                                 Traceback (most recent call last)",
      "Input \u001b[1;32mIn [211]\u001b[0m, in \u001b[0;36m<cell line: 1>\u001b[1;34m()\u001b[0m\n\u001b[1;32m----> 1\u001b[0m \u001b[43ms1\u001b[49m\u001b[43m[\u001b[49m\u001b[38;5;241;43m1\u001b[39;49m\u001b[43m]\u001b[49m\n",
      "\u001b[1;31mTypeError\u001b[0m: 'set' object is not subscriptable"
     ]
    }
   ],
   "source": [
    "s1[1]"
   ]
  },
  {
   "cell_type": "code",
   "execution_count": 216,
   "id": "7b457d54",
   "metadata": {},
   "outputs": [],
   "source": [
    "s2={'cat','rat','hen','dog'}"
   ]
  },
  {
   "cell_type": "code",
   "execution_count": 217,
   "id": "b0cd46b8",
   "metadata": {},
   "outputs": [
    {
     "data": {
      "text/plain": [
       "{'cat', 'dog', 'hen', 'rat'}"
      ]
     },
     "execution_count": 217,
     "metadata": {},
     "output_type": "execute_result"
    }
   ],
   "source": [
    "s2"
   ]
  },
  {
   "cell_type": "code",
   "execution_count": 218,
   "id": "41b45b07",
   "metadata": {},
   "outputs": [
    {
     "data": {
      "text/plain": [
       "4"
      ]
     },
     "execution_count": 218,
     "metadata": {},
     "output_type": "execute_result"
    }
   ],
   "source": [
    "len(s2)"
   ]
  },
  {
   "cell_type": "code",
   "execution_count": 219,
   "id": "e9dc096d",
   "metadata": {},
   "outputs": [],
   "source": [
    "s2.add(5)"
   ]
  },
  {
   "cell_type": "code",
   "execution_count": 220,
   "id": "0384daad",
   "metadata": {},
   "outputs": [
    {
     "data": {
      "text/plain": [
       "{5, 'cat', 'dog', 'hen', 'rat'}"
      ]
     },
     "execution_count": 220,
     "metadata": {},
     "output_type": "execute_result"
    }
   ],
   "source": [
    "s2"
   ]
  },
  {
   "cell_type": "code",
   "execution_count": 221,
   "id": "aa37a5b5",
   "metadata": {},
   "outputs": [
    {
     "data": {
      "text/plain": [
       "{5, 'cat', 'dog', 'hen', 'rat'}"
      ]
     },
     "execution_count": 221,
     "metadata": {},
     "output_type": "execute_result"
    }
   ],
   "source": [
    "s2"
   ]
  },
  {
   "cell_type": "code",
   "execution_count": 222,
   "id": "54fea20f",
   "metadata": {},
   "outputs": [],
   "source": [
    "s2.add(6)"
   ]
  },
  {
   "cell_type": "code",
   "execution_count": 223,
   "id": "f8753379",
   "metadata": {},
   "outputs": [
    {
     "data": {
      "text/plain": [
       "{5, 6, 'cat', 'dog', 'hen', 'rat'}"
      ]
     },
     "execution_count": 223,
     "metadata": {},
     "output_type": "execute_result"
    }
   ],
   "source": [
    "s2"
   ]
  },
  {
   "cell_type": "code",
   "execution_count": 224,
   "id": "63881c4b",
   "metadata": {},
   "outputs": [],
   "source": [
    "s2.update(s1)"
   ]
  },
  {
   "cell_type": "code",
   "execution_count": 225,
   "id": "93baddf1",
   "metadata": {},
   "outputs": [
    {
     "data": {
      "text/plain": [
       "{1, 2, 3, 5, 6, 'cat', 'dog', 'hen', 'rat'}"
      ]
     },
     "execution_count": 225,
     "metadata": {},
     "output_type": "execute_result"
    }
   ],
   "source": [
    "s2"
   ]
  },
  {
   "cell_type": "code",
   "execution_count": 226,
   "id": "30de82fb",
   "metadata": {},
   "outputs": [],
   "source": [
    "s2.add('horse')"
   ]
  },
  {
   "cell_type": "code",
   "execution_count": 227,
   "id": "88d68413",
   "metadata": {},
   "outputs": [
    {
     "data": {
      "text/plain": [
       "{1, 2, 3, 5, 6, 'cat', 'dog', 'hen', 'horse', 'rat'}"
      ]
     },
     "execution_count": 227,
     "metadata": {},
     "output_type": "execute_result"
    }
   ],
   "source": [
    "s2"
   ]
  },
  {
   "cell_type": "code",
   "execution_count": 228,
   "id": "a1396787",
   "metadata": {},
   "outputs": [],
   "source": [
    "s2.remove(6)"
   ]
  },
  {
   "cell_type": "code",
   "execution_count": 229,
   "id": "a87f450d",
   "metadata": {},
   "outputs": [
    {
     "data": {
      "text/plain": [
       "{1, 2, 3, 5, 'cat', 'dog', 'hen', 'horse', 'rat'}"
      ]
     },
     "execution_count": 229,
     "metadata": {},
     "output_type": "execute_result"
    }
   ],
   "source": [
    "s2"
   ]
  },
  {
   "cell_type": "code",
   "execution_count": 230,
   "id": "9e398403",
   "metadata": {},
   "outputs": [
    {
     "ename": "KeyError",
     "evalue": "6",
     "output_type": "error",
     "traceback": [
      "\u001b[1;31m---------------------------------------------------------------------------\u001b[0m",
      "\u001b[1;31mKeyError\u001b[0m                                  Traceback (most recent call last)",
      "Input \u001b[1;32mIn [230]\u001b[0m, in \u001b[0;36m<cell line: 1>\u001b[1;34m()\u001b[0m\n\u001b[1;32m----> 1\u001b[0m \u001b[43ms2\u001b[49m\u001b[38;5;241;43m.\u001b[39;49m\u001b[43mremove\u001b[49m\u001b[43m(\u001b[49m\u001b[38;5;241;43m6\u001b[39;49m\u001b[43m)\u001b[49m\n",
      "\u001b[1;31mKeyError\u001b[0m: 6"
     ]
    }
   ],
   "source": [
    "s2.remove(6)"
   ]
  },
  {
   "cell_type": "code",
   "execution_count": 231,
   "id": "4677e065",
   "metadata": {},
   "outputs": [],
   "source": [
    "s2.discard(5)"
   ]
  },
  {
   "cell_type": "code",
   "execution_count": 232,
   "id": "6cb3c4ae",
   "metadata": {},
   "outputs": [
    {
     "data": {
      "text/plain": [
       "{1, 2, 3, 'cat', 'dog', 'hen', 'horse', 'rat'}"
      ]
     },
     "execution_count": 232,
     "metadata": {},
     "output_type": "execute_result"
    }
   ],
   "source": [
    "s2"
   ]
  },
  {
   "cell_type": "code",
   "execution_count": 233,
   "id": "fb0c746d",
   "metadata": {},
   "outputs": [],
   "source": [
    "s2.discard(5)"
   ]
  },
  {
   "cell_type": "code",
   "execution_count": 234,
   "id": "730a770b",
   "metadata": {},
   "outputs": [
    {
     "data": {
      "text/plain": [
       "{1, 2, 3, 'cat', 'dog', 'hen', 'horse', 'rat'}"
      ]
     },
     "execution_count": 234,
     "metadata": {},
     "output_type": "execute_result"
    }
   ],
   "source": [
    "s2"
   ]
  },
  {
   "cell_type": "code",
   "execution_count": 235,
   "id": "e8c79c3e",
   "metadata": {},
   "outputs": [
    {
     "data": {
      "text/plain": [
       "1"
      ]
     },
     "execution_count": 235,
     "metadata": {},
     "output_type": "execute_result"
    }
   ],
   "source": [
    "s2.pop()"
   ]
  },
  {
   "cell_type": "code",
   "execution_count": 236,
   "id": "2ab2b868",
   "metadata": {},
   "outputs": [
    {
     "data": {
      "text/plain": [
       "2"
      ]
     },
     "execution_count": 236,
     "metadata": {},
     "output_type": "execute_result"
    }
   ],
   "source": [
    "s2.pop()"
   ]
  },
  {
   "cell_type": "code",
   "execution_count": 237,
   "id": "c9ab6c9f",
   "metadata": {},
   "outputs": [],
   "source": [
    "s2.clear()"
   ]
  },
  {
   "cell_type": "code",
   "execution_count": 238,
   "id": "a8d57135",
   "metadata": {},
   "outputs": [
    {
     "data": {
      "text/plain": [
       "set()"
      ]
     },
     "execution_count": 238,
     "metadata": {},
     "output_type": "execute_result"
    }
   ],
   "source": [
    "s2"
   ]
  },
  {
   "cell_type": "code",
   "execution_count": 239,
   "id": "b0a37b7b",
   "metadata": {},
   "outputs": [
    {
     "data": {
      "text/plain": [
       "set()"
      ]
     },
     "execution_count": 239,
     "metadata": {},
     "output_type": "execute_result"
    }
   ],
   "source": [
    "s2"
   ]
  },
  {
   "cell_type": "code",
   "execution_count": 240,
   "id": "98aed478",
   "metadata": {},
   "outputs": [],
   "source": [
    "del s2"
   ]
  },
  {
   "cell_type": "code",
   "execution_count": 241,
   "id": "d691014c",
   "metadata": {},
   "outputs": [
    {
     "ename": "NameError",
     "evalue": "name 's2' is not defined",
     "output_type": "error",
     "traceback": [
      "\u001b[1;31m---------------------------------------------------------------------------\u001b[0m",
      "\u001b[1;31mNameError\u001b[0m                                 Traceback (most recent call last)",
      "Input \u001b[1;32mIn [241]\u001b[0m, in \u001b[0;36m<cell line: 1>\u001b[1;34m()\u001b[0m\n\u001b[1;32m----> 1\u001b[0m \u001b[43ms2\u001b[49m\n",
      "\u001b[1;31mNameError\u001b[0m: name 's2' is not defined"
     ]
    }
   ],
   "source": [
    "s2"
   ]
  },
  {
   "cell_type": "code",
   "execution_count": null,
   "id": "aee202fc",
   "metadata": {},
   "outputs": [],
   "source": []
  }
 ],
 "metadata": {
  "kernelspec": {
   "display_name": "Python 3 (ipykernel)",
   "language": "python",
   "name": "python3"
  },
  "language_info": {
   "codemirror_mode": {
    "name": "ipython",
    "version": 3
   },
   "file_extension": ".py",
   "mimetype": "text/x-python",
   "name": "python",
   "nbconvert_exporter": "python",
   "pygments_lexer": "ipython3",
   "version": "3.9.12"
  }
 },
 "nbformat": 4,
 "nbformat_minor": 5
}
